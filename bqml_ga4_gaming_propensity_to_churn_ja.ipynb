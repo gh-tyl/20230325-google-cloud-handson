{
 "cells": [
  {
   "cell_type": "markdown",
   "metadata": {},
   "source": [
    "[オリジナルの英語版はこちら](https://github.com/GoogleCloudPlatform/analytics-componentized-patterns/blob/master/gaming/propensity-model/bqml/bqml_ga4_gaming_propensity_to_churn.ipynb)"
   ]
  },
  {
   "cell_type": "code",
   "execution_count": 1,
   "metadata": {
    "id": "XM4xjzQNzHwz"
   },
   "outputs": [],
   "source": [
    "# Copyright 2020 Google LLC\n",
    "#\n",
    "# Licensed under the Apache License, Version 2.0 (the \"License\");\n",
    "# you may not use this file except in compliance with the License.\n",
    "# You may obtain a copy of the License at\n",
    "#\n",
    "#     https://www.apache.org/licenses/LICENSE-2.0\n",
    "#\n",
    "# Unless required by applicable law or agreed to in writing, software\n",
    "# distributed under the License is distributed on an \"AS IS\" BASIS,\n",
    "# WITHOUT WARRANTIES OR CONDITIONS OF ANY KIND, either express or implied.\n",
    "# See the License for the specific language governing permissions and\n",
    "# limitations under the License."
   ]
  },
  {
   "cell_type": "markdown",
   "metadata": {
    "id": "tTt2Oe0szW0M"
   },
   "source": [
    "<table align=\"left\">\n",
    "  <td>\n",
    "    <a href=\"https://console.cloud.google.com/ai-platform/notebooks/deploy-notebook?name=Churn%20prediction%20for%20game%20developers%20using%20Google%20Analytics%204%20%28GA4%29%20and%20BigQuery%20ML%20Notebook&download_url=https%3A%2F%2Fraw.githubusercontent.com%2FGoogleCloudPlatform%2Fanalytics-componentized-patterns%2Fmaster%2Fgaming%2Fpropensity-model%2Fbqml%2Fbqml_ga4_gaming_propensity_to_churn.ipynb\">\n",
    "      <img src=\"https://cloud.google.com/images/products/ai/ai-solutions-icon.svg\" alt=\"AI Platform Notebooks\">Run on AI Platform Notebooks</a>\n",
    "  </td>\n",
    "  <td>\n",
    "    <a href=\"https://github.com/GoogleCloudPlatform/analytics-componentized-patterns/blob/master/gaming/propensity-model/bqml/bqml_ga4_gaming_propensity_to_churn.ipynb\">\n",
    "      <img src=\"https://cloud.google.com/ml-engine/images/github-logo-32px.png\" alt=\"GitHub logo\">\n",
    "      View on GitHub\n",
    "    </a>\n",
    "  </td>\n",
    "</table>"
   ]
  },
  {
   "cell_type": "markdown",
   "metadata": {
    "id": "DWW_k7u_zaER"
   },
   "source": [
    "# 概要\n",
    "\n",
    "このノートブックでは、モバイルゲームアプリのユーザが継続利用するかどうかを判定する機械学習モデルをBigQuery MLを使って訓練、評価、デプロイする方法を示します。\n",
    "機械学習の訓練データにはGoogle Analytics 4からのアプリの利用ログを利用します。\n",
    "\n",
    "#### モバイルゲーム業界における傾向分析\n",
    "\n",
    "10万のモバイルゲームアプリを対象にした[2019 年の調査](https://gameanalytics.com/reports/mobile-gaming-industry-analysis-h1-2019)では、アプリをインストールしてから24時間経過した後にユーザが継続利用している割合は25%しかありません。機械学習を使って1日以内に離脱してしまうユーザの傾向がわかれば、開発者は離脱する可能性の高いユーザに繰り返し使ってもらうための施策を打てるようになります。\n",
    "\n",
    "ユーザの行動は離脱か定着するかの2つに分類するので、分類問題のアルゴリズムを適用することができます。例えば、線形回帰、XGBoost、ニューラルネットワーク、AutoML Tablesが挙げられます。これらのアルゴリズムはBigQuery MLにて利用することができます。\n",
    "\n",
    "#### BigQuery ML における傾向モデリング\n",
    "\n",
    "BigQuery MLを用いると、インフラの準備をする時間を省き、SQLを用いて機械学習モデルの訓練、評価、デプロイを行うことができます。\n",
    "BigQueryに既に格納されているデータをそのまま訓練に使うことができるので、データの管理上のリスクを軽減することも可能です（訳注：一度データを取り出してしまうと、最新のデータを見ているのか、というような鮮度の問題や、データの漏洩のリスクが出てきます）。\n",
    "\n",
    "BigQuery MLを使って訓練、デプロイした分類モデルを利用して、ユーザの行動傾向を出力することができます。モデルは0から1の間のスコアを出力します。1に近いほどユーザが離脱する可能性が高く、0であれば定着する可能性が高いことを示しています。\n",
    "\n",
    "確率スコアを使って、そのまま何もしないと離脱してしまいそうなユーザにターゲットを絞って対策を取ることができます。例えば、何らかのアイテムを付与したり通知を送ったりするなどです。\n",
    "\n",
    "#### 離脱以外の行動にも応用可能\n",
    "\n",
    "傾向分析は離脱の可能性のみに限らず、任意の行動に対して行うことができます。例えば、アプリ内決済でアイテムを購入してくれる可能性、ユーザの友達を紹介して一緒に遊んでくれる可能性などです。後者は長期間遊んでくれること、またユーザ数の拡大が見込めます。基本的なワークフローは共通するので、目的に合わせてこのノートブックを改造して使うことができます。"
   ]
  },
  {
   "cell_type": "markdown",
   "metadata": {
    "id": "t44p6IQUzrY4"
   },
   "source": [
    "## このノートブックの対象範囲"
   ]
  },
  {
   "cell_type": "markdown",
   "metadata": {
    "id": "nznL3qK4z8Jm"
   },
   "source": [
    "### データセット\n",
    "\n",
    "このノートブックでは[公開のBigQuery データセット](https://console.cloud.google.com/bigquery?p=firebase-public-project&d=analytics_153293282&t=events_20181003&page=table)を使います。このデータセットには実際のモバイルゲームアプリから収集されたログデータが含まれます。アプリ名： Flood It! ([Android app](https://play.google.com/store/apps/details?id=com.labpixies.flood), [iOS app](https://itunes.apple.com/us/app/flood-it!/id476943146?mt=8)). [スキーマ](https://support.google.com/analytics/answer/7029846) は Google Analytics for Firebase に由来しますが、 [Google Analytics 4](https://support.google.com/analytics/answer/9358801) と共通します。したがってこのノートブックは Google Analytics for Firebase と Google Analytics 4 のデータに適用可能です。\n",
    "\n",
    "Google Analytics 4 (GA4) は[イベントベース](https://support.google.com/analytics/answer/9322688) の計測モデルを採用します。イベントはアプリやWebサイトで何が起こったのかについての知見をもたらします。例えば、ユーザの行動、システム側のイベントやエラーの発生です。イベント1件はテーブルの中の1行に対応し、関連する属性値が行の中に入れ子になって格納されています。Google Analytics は標準で多数のイベント種別に対応しますが、それ以外に記録したいイベントを追加することも可能です。\n",
    "\n",
    "生のイベントデータを直接機械学習モデルの訓練に使うことはできない点に注意してください。このノートブックでは、分類問題を解く機械学習モデルを訓練するために適切なデータ形式へ前処理を行う方法についても扱います。"
   ]
  },
  {
   "cell_type": "markdown",
   "metadata": {
    "id": "hxrwZlF2PYQ8"
   },
   "source": [
    "#### 自身の GA4 データを利用する\n",
    "（オリジナルの英文にはありますが、本イベントでは公開データを使うため省略します）"
   ]
  },
  {
   "cell_type": "markdown",
   "metadata": {
    "id": "KJB3rOtfrBIl"
   },
   "source": [
    "#### GA 以外のデータを利用する"
   ]
  },
  {
   "cell_type": "markdown",
   "metadata": {
    "id": "9corrB3IrPeH"
   },
   "source": [
    "（前のセクションと同様、省略します）"
   ]
  },
  {
   "cell_type": "markdown",
   "metadata": {
    "id": "sH0CZGku0BPp"
   },
   "source": [
    "### 目標\n",
    "\n",
    "このノートブックの目標は、GA4のデータとBigQuery MLを利用してユーザの離脱可能性の分析を行う方法を示すことです。\n",
    "\"Flood It!\"のデータセットの中から、各ユーザがインストールしてから24時間以内の行動データを取り出し、さまざまな分類モデルを訓練します。\n",
    "\n",
    "* BigQuery にエクスポートされた Google Analytics 4 データの内容がわかる \n",
    "* ユーザの属性、行動、ラベル（離脱する・しない）を使って訓練用データを準備する\n",
    "* BigQuery ML を使って分類モデルを訓練する\n",
    "* BigQuery ML を使ってモデルを評価する\n",
    "* BigQuery ML を使ってユーザが離脱する可能性を推定する"
   ]
  },
  {
   "cell_type": "markdown",
   "metadata": {
    "id": "IStlwydL0NWC"
   },
   "source": [
    "### 費用\n",
    "\n",
    "このチュートリアルでは下記のサービスの利用料金が発生します。\n",
    "\n",
    "* BigQuery\n",
    "* BigQuery ML\n",
    "\n",
    "料金体系の詳細は[BigQuery](https://cloud.google.com/bigquery/pricing)、[BigQuery ML](https://cloud.google.com/bigquery-ml/pricing)を参照してください。[Pricing\n",
    "Calculator](https://cloud.google.com/products/calculator/)を使って見積もることもできます。"
   ]
  },
  {
   "cell_type": "markdown",
   "metadata": {
    "id": "coMAAaOH0Tcl"
   },
   "source": [
    "## セットアップ"
   ]
  },
  {
   "cell_type": "markdown",
   "metadata": {
    "id": "NUlqCGWz0VGL"
   },
   "source": [
    "### PIP パッケージと依存関係のインストール"
   ]
  },
  {
   "cell_type": "code",
   "execution_count": 2,
   "metadata": {
    "id": "MujO3LNG0W26"
   },
   "outputs": [
    {
     "name": "stdout",
     "output_type": "stream",
     "text": [
      "Requirement already satisfied: google-cloud-bigquery in /opt/conda/lib/python3.7/site-packages (3.6.0)\n",
      "Requirement already satisfied: proto-plus<2.0.0dev,>=1.15.0 in /opt/conda/lib/python3.7/site-packages (from google-cloud-bigquery) (1.22.2)\n",
      "Requirement already satisfied: google-resumable-media<3.0dev,>=0.6.0 in /opt/conda/lib/python3.7/site-packages (from google-cloud-bigquery) (2.4.1)\n",
      "Requirement already satisfied: requests<3.0.0dev,>=2.21.0 in /opt/conda/lib/python3.7/site-packages (from google-cloud-bigquery) (2.28.2)\n",
      "Requirement already satisfied: packaging>=20.0.0 in /opt/conda/lib/python3.7/site-packages (from google-cloud-bigquery) (23.0)\n",
      "Requirement already satisfied: google-api-core[grpc]!=2.0.*,!=2.1.*,!=2.2.*,!=2.3.0,<3.0.0dev,>=1.31.5 in /opt/conda/lib/python3.7/site-packages (from google-cloud-bigquery) (1.34.0)\n",
      "Requirement already satisfied: google-cloud-core<3.0.0dev,>=1.6.0 in /opt/conda/lib/python3.7/site-packages (from google-cloud-bigquery) (2.3.2)\n",
      "Requirement already satisfied: protobuf!=3.20.0,!=3.20.1,!=4.21.0,!=4.21.1,!=4.21.2,!=4.21.3,!=4.21.4,!=4.21.5,<5.0.0dev,>=3.19.5 in /opt/conda/lib/python3.7/site-packages (from google-cloud-bigquery) (3.20.3)\n",
      "Requirement already satisfied: python-dateutil<3.0dev,>=2.7.2 in /opt/conda/lib/python3.7/site-packages (from google-cloud-bigquery) (2.8.2)\n",
      "Requirement already satisfied: grpcio<2.0dev,>=1.47.0 in /opt/conda/lib/python3.7/site-packages (from google-cloud-bigquery) (1.51.3)\n",
      "Requirement already satisfied: google-auth<3.0dev,>=1.25.0 in /opt/conda/lib/python3.7/site-packages (from google-api-core[grpc]!=2.0.*,!=2.1.*,!=2.2.*,!=2.3.0,<3.0.0dev,>=1.31.5->google-cloud-bigquery) (2.16.2)\n",
      "Requirement already satisfied: googleapis-common-protos<2.0dev,>=1.56.2 in /opt/conda/lib/python3.7/site-packages (from google-api-core[grpc]!=2.0.*,!=2.1.*,!=2.2.*,!=2.3.0,<3.0.0dev,>=1.31.5->google-cloud-bigquery) (1.58.0)\n",
      "Requirement already satisfied: grpcio-status<2.0dev,>=1.33.2 in /opt/conda/lib/python3.7/site-packages (from google-api-core[grpc]!=2.0.*,!=2.1.*,!=2.2.*,!=2.3.0,<3.0.0dev,>=1.31.5->google-cloud-bigquery) (1.48.2)\n",
      "Requirement already satisfied: google-crc32c<2.0dev,>=1.0 in /opt/conda/lib/python3.7/site-packages (from google-resumable-media<3.0dev,>=0.6.0->google-cloud-bigquery) (1.5.0)\n",
      "Requirement already satisfied: six>=1.5 in /opt/conda/lib/python3.7/site-packages (from python-dateutil<3.0dev,>=2.7.2->google-cloud-bigquery) (1.16.0)\n",
      "Requirement already satisfied: urllib3<1.27,>=1.21.1 in /opt/conda/lib/python3.7/site-packages (from requests<3.0.0dev,>=2.21.0->google-cloud-bigquery) (1.26.14)\n",
      "Requirement already satisfied: charset-normalizer<4,>=2 in /opt/conda/lib/python3.7/site-packages (from requests<3.0.0dev,>=2.21.0->google-cloud-bigquery) (2.1.1)\n",
      "Requirement already satisfied: idna<4,>=2.5 in /opt/conda/lib/python3.7/site-packages (from requests<3.0.0dev,>=2.21.0->google-cloud-bigquery) (3.4)\n",
      "Requirement already satisfied: certifi>=2017.4.17 in /opt/conda/lib/python3.7/site-packages (from requests<3.0.0dev,>=2.21.0->google-cloud-bigquery) (2022.12.7)\n",
      "Requirement already satisfied: rsa<5,>=3.1.4 in /opt/conda/lib/python3.7/site-packages (from google-auth<3.0dev,>=1.25.0->google-api-core[grpc]!=2.0.*,!=2.1.*,!=2.2.*,!=2.3.0,<3.0.0dev,>=1.31.5->google-cloud-bigquery) (4.9)\n",
      "Requirement already satisfied: pyasn1-modules>=0.2.1 in /opt/conda/lib/python3.7/site-packages (from google-auth<3.0dev,>=1.25.0->google-api-core[grpc]!=2.0.*,!=2.1.*,!=2.2.*,!=2.3.0,<3.0.0dev,>=1.31.5->google-cloud-bigquery) (0.2.8)\n",
      "Requirement already satisfied: cachetools<6.0,>=2.0.0 in /opt/conda/lib/python3.7/site-packages (from google-auth<3.0dev,>=1.25.0->google-api-core[grpc]!=2.0.*,!=2.1.*,!=2.2.*,!=2.3.0,<3.0.0dev,>=1.31.5->google-cloud-bigquery) (5.3.0)\n",
      "Requirement already satisfied: pyasn1<0.5.0,>=0.4.6 in /opt/conda/lib/python3.7/site-packages (from pyasn1-modules>=0.2.1->google-auth<3.0dev,>=1.25.0->google-api-core[grpc]!=2.0.*,!=2.1.*,!=2.2.*,!=2.3.0,<3.0.0dev,>=1.31.5->google-cloud-bigquery) (0.4.8)\n"
     ]
    }
   ],
   "source": [
    "!pip install google-cloud-bigquery"
   ]
  },
  {
   "cell_type": "code",
   "execution_count": 3,
   "metadata": {
    "id": "oRab23dd0aeC"
   },
   "outputs": [
    {
     "data": {
      "text/plain": [
       "{'status': 'ok', 'restart': True}"
      ]
     },
     "execution_count": 3,
     "metadata": {},
     "output_type": "execute_result"
    }
   ],
   "source": [
    "# Automatically restart kernel after installs\n",
    "import IPython\n",
    "app = IPython.Application.instance()\n",
    "app.kernel.do_shutdown(True)  "
   ]
  },
  {
   "cell_type": "markdown",
   "metadata": {
    "id": "8PpWu5MR0bPf"
   },
   "source": [
    "### Google Cloud プロジェクトの準備\n",
    "\n",
    "プロジェクトの準備とAPIの有効化は済んでいる想定です。\n",
    "\n",
    "1. 利用するプロジェクト ID を入力してください。入力後、セルを実行して今後のコマンドを実行するとき Cloud SDK が正しいプロジェクトを利用するようにします。"
   ]
  },
  {
   "cell_type": "code",
   "execution_count": 1,
   "metadata": {},
   "outputs": [],
   "source": [
    "PROJECT_ID = \"qwiklabs-gcp-02-cb5a639b1bac\" #replace with your project id\n",
    "REGION = 'US'"
   ]
  },
  {
   "cell_type": "markdown",
   "metadata": {
    "id": "mm5cGuC00mHI"
   },
   "source": [
    "### ライブラリのインポートと定数の定義"
   ]
  },
  {
   "cell_type": "code",
   "execution_count": 2,
   "metadata": {
    "id": "DRYImlXa0mld"
   },
   "outputs": [],
   "source": [
    "from google.cloud import bigquery\n",
    "import pandas as pd\n",
    "\n",
    "pd.set_option('display.float_format', lambda x: '%.3f' % x)"
   ]
  },
  {
   "cell_type": "markdown",
   "metadata": {
    "id": "BlfwBj4P0rHD"
   },
   "source": [
    "### BigQuery データセットの作成"
   ]
  },
  {
   "cell_type": "markdown",
   "metadata": {
    "id": "X9TLkb8f0tCE"
   },
   "source": [
    "このノートブックでは、`bqmlga4` というデータセットを使います。下記のコマンドを実行して作ります。"
   ]
  },
  {
   "cell_type": "code",
   "execution_count": 3,
   "metadata": {
    "id": "d8LyhoGy0ttK"
   },
   "outputs": [
    {
     "name": "stdout",
     "output_type": "stream",
     "text": [
      "Dataset 'qwiklabs-gcp-02-cb5a639b1bac:bqmlga4' successfully created.\n"
     ]
    }
   ],
   "source": [
    "DATASET_NAME = \"bqmlga4\"\n",
    "!bq mk --location=$REGION --dataset $PROJECT_ID:$DATASET_NAME"
   ]
  },
  {
   "cell_type": "markdown",
   "metadata": {
    "id": "_sOVqTXM0-Wc"
   },
   "source": [
    "## データセット"
   ]
  },
  {
   "cell_type": "markdown",
   "metadata": {
    "id": "4LMr6Q3MQt0I"
   },
   "source": [
    "### Flood it! のイベントデータを利用する"
   ]
  },
  {
   "cell_type": "markdown",
   "metadata": {
    "id": "wV7wi8X51eNw"
   },
   "source": [
    "サンプルデータセットは生のイベントデータを持ちます。次のセルを実行して内容を確認してください。\n",
    "\n",
    "_注_: Jupyter は %%bigquery で始まるセルを SQL クエリとして認識します。"
   ]
  },
  {
   "cell_type": "code",
   "execution_count": 4,
   "metadata": {
    "colab": {
     "base_uri": "https://localhost:8080/",
     "height": 551
    },
    "id": "wwz_N3Kh1f9l",
    "outputId": "8b162c57-12a6-4262-e482-6e4d0ae3b47c"
   },
   "outputs": [
    {
     "data": {
      "application/vnd.jupyter.widget-view+json": {
       "model_id": "2fbc3c252ac74f1a8e6c5f48acfc0107",
       "version_major": 2,
       "version_minor": 0
      },
      "text/plain": [
       "Query is running:   0%|          |"
      ]
     },
     "metadata": {},
     "output_type": "display_data"
    },
    {
     "data": {
      "application/vnd.jupyter.widget-view+json": {
       "model_id": "d7cc1970b7e24732ad91235ff7d94f45",
       "version_major": 2,
       "version_minor": 0
      },
      "text/plain": [
       "Downloading:   0%|          |"
      ]
     },
     "metadata": {},
     "output_type": "display_data"
    },
    {
     "data": {
      "text/html": [
       "<div>\n",
       "<style scoped>\n",
       "    .dataframe tbody tr th:only-of-type {\n",
       "        vertical-align: middle;\n",
       "    }\n",
       "\n",
       "    .dataframe tbody tr th {\n",
       "        vertical-align: top;\n",
       "    }\n",
       "\n",
       "    .dataframe thead th {\n",
       "        text-align: right;\n",
       "    }\n",
       "</style>\n",
       "<table border=\"1\" class=\"dataframe\">\n",
       "  <thead>\n",
       "    <tr style=\"text-align: right;\">\n",
       "      <th></th>\n",
       "      <th>event_date</th>\n",
       "      <th>event_timestamp</th>\n",
       "      <th>event_name</th>\n",
       "      <th>event_params</th>\n",
       "      <th>event_previous_timestamp</th>\n",
       "      <th>event_value_in_usd</th>\n",
       "      <th>event_bundle_sequence_id</th>\n",
       "      <th>event_server_timestamp_offset</th>\n",
       "      <th>user_id</th>\n",
       "      <th>user_pseudo_id</th>\n",
       "      <th>user_properties</th>\n",
       "      <th>user_first_touch_timestamp</th>\n",
       "      <th>user_ltv</th>\n",
       "      <th>device</th>\n",
       "      <th>geo</th>\n",
       "      <th>app_info</th>\n",
       "      <th>traffic_source</th>\n",
       "      <th>stream_id</th>\n",
       "      <th>platform</th>\n",
       "      <th>event_dimensions</th>\n",
       "    </tr>\n",
       "  </thead>\n",
       "  <tbody>\n",
       "    <tr>\n",
       "      <th>0</th>\n",
       "      <td>20180623</td>\n",
       "      <td>1529777737806000</td>\n",
       "      <td>level_complete_quickplay</td>\n",
       "      <td>[{'key': 'value', 'value': {'string_value': No...</td>\n",
       "      <td>1529731062171000</td>\n",
       "      <td>NaN</td>\n",
       "      <td>&lt;NA&gt;</td>\n",
       "      <td>&lt;NA&gt;</td>\n",
       "      <td>None</td>\n",
       "      <td>E6850F5E0DAB3E339C6A36BDEECCA26F</td>\n",
       "      <td>[{'key': 'initial_extra_steps', 'value': {'str...</td>\n",
       "      <td>1528480400416000</td>\n",
       "      <td>None</td>\n",
       "      <td>{'category': 'mobile', 'mobile_brand_name': 'n...</td>\n",
       "      <td>{'continent': 'Americas', 'country': 'United S...</td>\n",
       "      <td>{'id': 'com.labpixies.flood', 'version': '2.62...</td>\n",
       "      <td>{'name': None, 'medium': 'organic', 'source': ...</td>\n",
       "      <td>1051193346</td>\n",
       "      <td>ANDROID</td>\n",
       "      <td>None</td>\n",
       "    </tr>\n",
       "    <tr>\n",
       "      <th>1</th>\n",
       "      <td>20180623</td>\n",
       "      <td>1529775402862000</td>\n",
       "      <td>session_start</td>\n",
       "      <td>[{'key': 'firebase_conversion', 'value': {'str...</td>\n",
       "      <td>1529729812745000</td>\n",
       "      <td>NaN</td>\n",
       "      <td>&lt;NA&gt;</td>\n",
       "      <td>&lt;NA&gt;</td>\n",
       "      <td>None</td>\n",
       "      <td>E6850F5E0DAB3E339C6A36BDEECCA26F</td>\n",
       "      <td>[{'key': 'initial_extra_steps', 'value': {'str...</td>\n",
       "      <td>1528480400416000</td>\n",
       "      <td>None</td>\n",
       "      <td>{'category': 'mobile', 'mobile_brand_name': 'n...</td>\n",
       "      <td>{'continent': 'Americas', 'country': 'United S...</td>\n",
       "      <td>{'id': 'com.labpixies.flood', 'version': '2.62...</td>\n",
       "      <td>{'name': None, 'medium': 'organic', 'source': ...</td>\n",
       "      <td>1051193346</td>\n",
       "      <td>ANDROID</td>\n",
       "      <td>None</td>\n",
       "    </tr>\n",
       "    <tr>\n",
       "      <th>2</th>\n",
       "      <td>20180623</td>\n",
       "      <td>1529777740802000</td>\n",
       "      <td>session_start</td>\n",
       "      <td>[{'key': 'firebase_conversion', 'value': {'str...</td>\n",
       "      <td>1529775365862000</td>\n",
       "      <td>NaN</td>\n",
       "      <td>&lt;NA&gt;</td>\n",
       "      <td>&lt;NA&gt;</td>\n",
       "      <td>None</td>\n",
       "      <td>E6850F5E0DAB3E339C6A36BDEECCA26F</td>\n",
       "      <td>[{'key': 'initial_extra_steps', 'value': {'str...</td>\n",
       "      <td>1528480400416000</td>\n",
       "      <td>None</td>\n",
       "      <td>{'category': 'mobile', 'mobile_brand_name': 'n...</td>\n",
       "      <td>{'continent': 'Americas', 'country': 'United S...</td>\n",
       "      <td>{'id': 'com.labpixies.flood', 'version': '2.62...</td>\n",
       "      <td>{'name': None, 'medium': 'organic', 'source': ...</td>\n",
       "      <td>1051193346</td>\n",
       "      <td>ANDROID</td>\n",
       "      <td>None</td>\n",
       "    </tr>\n",
       "    <tr>\n",
       "      <th>3</th>\n",
       "      <td>20180623</td>\n",
       "      <td>1529775365969001</td>\n",
       "      <td>screen_view</td>\n",
       "      <td>[{'key': 'firebase_previous_id', 'value': {'st...</td>\n",
       "      <td>1529775355779001</td>\n",
       "      <td>NaN</td>\n",
       "      <td>&lt;NA&gt;</td>\n",
       "      <td>&lt;NA&gt;</td>\n",
       "      <td>None</td>\n",
       "      <td>E6850F5E0DAB3E339C6A36BDEECCA26F</td>\n",
       "      <td>[{'key': 'initial_extra_steps', 'value': {'str...</td>\n",
       "      <td>1528480400416000</td>\n",
       "      <td>None</td>\n",
       "      <td>{'category': 'mobile', 'mobile_brand_name': 'n...</td>\n",
       "      <td>{'continent': 'Americas', 'country': 'United S...</td>\n",
       "      <td>{'id': 'com.labpixies.flood', 'version': '2.62...</td>\n",
       "      <td>{'name': None, 'medium': 'organic', 'source': ...</td>\n",
       "      <td>1051193346</td>\n",
       "      <td>ANDROID</td>\n",
       "      <td>None</td>\n",
       "    </tr>\n",
       "    <tr>\n",
       "      <th>4</th>\n",
       "      <td>20180623</td>\n",
       "      <td>1529775436143005</td>\n",
       "      <td>screen_view</td>\n",
       "      <td>[{'key': 'firebase_previous_id', 'value': {'st...</td>\n",
       "      <td>1529775355969005</td>\n",
       "      <td>NaN</td>\n",
       "      <td>&lt;NA&gt;</td>\n",
       "      <td>&lt;NA&gt;</td>\n",
       "      <td>None</td>\n",
       "      <td>E6850F5E0DAB3E339C6A36BDEECCA26F</td>\n",
       "      <td>[{'key': 'initial_extra_steps', 'value': {'str...</td>\n",
       "      <td>1528480400416000</td>\n",
       "      <td>None</td>\n",
       "      <td>{'category': 'mobile', 'mobile_brand_name': 'n...</td>\n",
       "      <td>{'continent': 'Americas', 'country': 'United S...</td>\n",
       "      <td>{'id': 'com.labpixies.flood', 'version': '2.62...</td>\n",
       "      <td>{'name': None, 'medium': 'organic', 'source': ...</td>\n",
       "      <td>1051193346</td>\n",
       "      <td>ANDROID</td>\n",
       "      <td>None</td>\n",
       "    </tr>\n",
       "    <tr>\n",
       "      <th>...</th>\n",
       "      <td>...</td>\n",
       "      <td>...</td>\n",
       "      <td>...</td>\n",
       "      <td>...</td>\n",
       "      <td>...</td>\n",
       "      <td>...</td>\n",
       "      <td>...</td>\n",
       "      <td>...</td>\n",
       "      <td>...</td>\n",
       "      <td>...</td>\n",
       "      <td>...</td>\n",
       "      <td>...</td>\n",
       "      <td>...</td>\n",
       "      <td>...</td>\n",
       "      <td>...</td>\n",
       "      <td>...</td>\n",
       "      <td>...</td>\n",
       "      <td>...</td>\n",
       "      <td>...</td>\n",
       "      <td>...</td>\n",
       "    </tr>\n",
       "    <tr>\n",
       "      <th>49995</th>\n",
       "      <td>20180623</td>\n",
       "      <td>1529798255320000</td>\n",
       "      <td>screen_view</td>\n",
       "      <td>[{'key': 'firebase_screen_class', 'value': {'s...</td>\n",
       "      <td>1527707813769000</td>\n",
       "      <td>NaN</td>\n",
       "      <td>&lt;NA&gt;</td>\n",
       "      <td>&lt;NA&gt;</td>\n",
       "      <td>None</td>\n",
       "      <td>C6176FAE470C4DDCD0E5BC49DFE2482B</td>\n",
       "      <td>[{'key': 'first_open_time', 'value': {'string_...</td>\n",
       "      <td>1525229952267000</td>\n",
       "      <td>None</td>\n",
       "      <td>{'category': 'tablet', 'mobile_brand_name': 'n...</td>\n",
       "      <td>{'continent': 'Americas', 'country': 'United S...</td>\n",
       "      <td>{'id': 'com.google.flood2', 'version': '2.6.30...</td>\n",
       "      <td>{'name': '(direct)', 'medium': '(none)', 'sour...</td>\n",
       "      <td>1051193347</td>\n",
       "      <td>IOS</td>\n",
       "      <td>None</td>\n",
       "    </tr>\n",
       "    <tr>\n",
       "      <th>49996</th>\n",
       "      <td>20180623</td>\n",
       "      <td>1529786418635004</td>\n",
       "      <td>app_update</td>\n",
       "      <td>[{'key': 'previous_app_version', 'value': {'st...</td>\n",
       "      <td>1527087973383004</td>\n",
       "      <td>NaN</td>\n",
       "      <td>&lt;NA&gt;</td>\n",
       "      <td>&lt;NA&gt;</td>\n",
       "      <td>None</td>\n",
       "      <td>C3E24B31253C0BB650F50963F4A7D7E0</td>\n",
       "      <td>[{'key': 'first_open_time', 'value': {'string_...</td>\n",
       "      <td>1505746073675000</td>\n",
       "      <td>None</td>\n",
       "      <td>{'category': 'tablet', 'mobile_brand_name': 'n...</td>\n",
       "      <td>{'continent': 'Asia', 'country': 'Japan', 'reg...</td>\n",
       "      <td>{'id': 'com.google.flood2', 'version': '2.6.30...</td>\n",
       "      <td>{'name': '(direct)', 'medium': '(none)', 'sour...</td>\n",
       "      <td>1051193347</td>\n",
       "      <td>IOS</td>\n",
       "      <td>None</td>\n",
       "    </tr>\n",
       "    <tr>\n",
       "      <th>49997</th>\n",
       "      <td>20180623</td>\n",
       "      <td>1529786349795005</td>\n",
       "      <td>screen_view</td>\n",
       "      <td>[{'key': 'firebase_previous_id', 'value': {'st...</td>\n",
       "      <td>1529786332271005</td>\n",
       "      <td>NaN</td>\n",
       "      <td>&lt;NA&gt;</td>\n",
       "      <td>&lt;NA&gt;</td>\n",
       "      <td>None</td>\n",
       "      <td>C3E24B31253C0BB650F50963F4A7D7E0</td>\n",
       "      <td>[{'key': 'first_open_time', 'value': {'string_...</td>\n",
       "      <td>1505746073675000</td>\n",
       "      <td>None</td>\n",
       "      <td>{'category': 'tablet', 'mobile_brand_name': 'n...</td>\n",
       "      <td>{'continent': 'Asia', 'country': 'Japan', 'reg...</td>\n",
       "      <td>{'id': 'com.google.flood2', 'version': '2.6.30...</td>\n",
       "      <td>{'name': '(direct)', 'medium': '(none)', 'sour...</td>\n",
       "      <td>1051193347</td>\n",
       "      <td>IOS</td>\n",
       "      <td>None</td>\n",
       "    </tr>\n",
       "    <tr>\n",
       "      <th>49998</th>\n",
       "      <td>20180623</td>\n",
       "      <td>1529786363795006</td>\n",
       "      <td>screen_view</td>\n",
       "      <td>[{'key': 'firebase_previous_id', 'value': {'st...</td>\n",
       "      <td>1529786332795006</td>\n",
       "      <td>NaN</td>\n",
       "      <td>&lt;NA&gt;</td>\n",
       "      <td>&lt;NA&gt;</td>\n",
       "      <td>None</td>\n",
       "      <td>C3E24B31253C0BB650F50963F4A7D7E0</td>\n",
       "      <td>[{'key': 'first_open_time', 'value': {'string_...</td>\n",
       "      <td>1505746073675000</td>\n",
       "      <td>None</td>\n",
       "      <td>{'category': 'tablet', 'mobile_brand_name': 'n...</td>\n",
       "      <td>{'continent': 'Asia', 'country': 'Japan', 'reg...</td>\n",
       "      <td>{'id': 'com.google.flood2', 'version': '2.6.30...</td>\n",
       "      <td>{'name': '(direct)', 'medium': '(none)', 'sour...</td>\n",
       "      <td>1051193347</td>\n",
       "      <td>IOS</td>\n",
       "      <td>None</td>\n",
       "    </tr>\n",
       "    <tr>\n",
       "      <th>49999</th>\n",
       "      <td>20180623</td>\n",
       "      <td>1529786354271000</td>\n",
       "      <td>screen_view</td>\n",
       "      <td>[{'key': 'firebase_screen_class', 'value': {'s...</td>\n",
       "      <td>1527087973176000</td>\n",
       "      <td>NaN</td>\n",
       "      <td>&lt;NA&gt;</td>\n",
       "      <td>&lt;NA&gt;</td>\n",
       "      <td>None</td>\n",
       "      <td>C3E24B31253C0BB650F50963F4A7D7E0</td>\n",
       "      <td>[{'key': 'first_open_time', 'value': {'string_...</td>\n",
       "      <td>1505746073675000</td>\n",
       "      <td>None</td>\n",
       "      <td>{'category': 'tablet', 'mobile_brand_name': 'n...</td>\n",
       "      <td>{'continent': 'Asia', 'country': 'Japan', 'reg...</td>\n",
       "      <td>{'id': 'com.google.flood2', 'version': '2.6.30...</td>\n",
       "      <td>{'name': '(direct)', 'medium': '(none)', 'sour...</td>\n",
       "      <td>1051193347</td>\n",
       "      <td>IOS</td>\n",
       "      <td>None</td>\n",
       "    </tr>\n",
       "  </tbody>\n",
       "</table>\n",
       "<p>50000 rows × 20 columns</p>\n",
       "</div>"
      ],
      "text/plain": [
       "      event_date   event_timestamp                event_name  \\\n",
       "0       20180623  1529777737806000  level_complete_quickplay   \n",
       "1       20180623  1529775402862000             session_start   \n",
       "2       20180623  1529777740802000             session_start   \n",
       "3       20180623  1529775365969001               screen_view   \n",
       "4       20180623  1529775436143005               screen_view   \n",
       "...          ...               ...                       ...   \n",
       "49995   20180623  1529798255320000               screen_view   \n",
       "49996   20180623  1529786418635004                app_update   \n",
       "49997   20180623  1529786349795005               screen_view   \n",
       "49998   20180623  1529786363795006               screen_view   \n",
       "49999   20180623  1529786354271000               screen_view   \n",
       "\n",
       "                                            event_params  \\\n",
       "0      [{'key': 'value', 'value': {'string_value': No...   \n",
       "1      [{'key': 'firebase_conversion', 'value': {'str...   \n",
       "2      [{'key': 'firebase_conversion', 'value': {'str...   \n",
       "3      [{'key': 'firebase_previous_id', 'value': {'st...   \n",
       "4      [{'key': 'firebase_previous_id', 'value': {'st...   \n",
       "...                                                  ...   \n",
       "49995  [{'key': 'firebase_screen_class', 'value': {'s...   \n",
       "49996  [{'key': 'previous_app_version', 'value': {'st...   \n",
       "49997  [{'key': 'firebase_previous_id', 'value': {'st...   \n",
       "49998  [{'key': 'firebase_previous_id', 'value': {'st...   \n",
       "49999  [{'key': 'firebase_screen_class', 'value': {'s...   \n",
       "\n",
       "       event_previous_timestamp  event_value_in_usd  event_bundle_sequence_id  \\\n",
       "0              1529731062171000                 NaN                      <NA>   \n",
       "1              1529729812745000                 NaN                      <NA>   \n",
       "2              1529775365862000                 NaN                      <NA>   \n",
       "3              1529775355779001                 NaN                      <NA>   \n",
       "4              1529775355969005                 NaN                      <NA>   \n",
       "...                         ...                 ...                       ...   \n",
       "49995          1527707813769000                 NaN                      <NA>   \n",
       "49996          1527087973383004                 NaN                      <NA>   \n",
       "49997          1529786332271005                 NaN                      <NA>   \n",
       "49998          1529786332795006                 NaN                      <NA>   \n",
       "49999          1527087973176000                 NaN                      <NA>   \n",
       "\n",
       "       event_server_timestamp_offset user_id  \\\n",
       "0                               <NA>    None   \n",
       "1                               <NA>    None   \n",
       "2                               <NA>    None   \n",
       "3                               <NA>    None   \n",
       "4                               <NA>    None   \n",
       "...                              ...     ...   \n",
       "49995                           <NA>    None   \n",
       "49996                           <NA>    None   \n",
       "49997                           <NA>    None   \n",
       "49998                           <NA>    None   \n",
       "49999                           <NA>    None   \n",
       "\n",
       "                         user_pseudo_id  \\\n",
       "0      E6850F5E0DAB3E339C6A36BDEECCA26F   \n",
       "1      E6850F5E0DAB3E339C6A36BDEECCA26F   \n",
       "2      E6850F5E0DAB3E339C6A36BDEECCA26F   \n",
       "3      E6850F5E0DAB3E339C6A36BDEECCA26F   \n",
       "4      E6850F5E0DAB3E339C6A36BDEECCA26F   \n",
       "...                                 ...   \n",
       "49995  C6176FAE470C4DDCD0E5BC49DFE2482B   \n",
       "49996  C3E24B31253C0BB650F50963F4A7D7E0   \n",
       "49997  C3E24B31253C0BB650F50963F4A7D7E0   \n",
       "49998  C3E24B31253C0BB650F50963F4A7D7E0   \n",
       "49999  C3E24B31253C0BB650F50963F4A7D7E0   \n",
       "\n",
       "                                         user_properties  \\\n",
       "0      [{'key': 'initial_extra_steps', 'value': {'str...   \n",
       "1      [{'key': 'initial_extra_steps', 'value': {'str...   \n",
       "2      [{'key': 'initial_extra_steps', 'value': {'str...   \n",
       "3      [{'key': 'initial_extra_steps', 'value': {'str...   \n",
       "4      [{'key': 'initial_extra_steps', 'value': {'str...   \n",
       "...                                                  ...   \n",
       "49995  [{'key': 'first_open_time', 'value': {'string_...   \n",
       "49996  [{'key': 'first_open_time', 'value': {'string_...   \n",
       "49997  [{'key': 'first_open_time', 'value': {'string_...   \n",
       "49998  [{'key': 'first_open_time', 'value': {'string_...   \n",
       "49999  [{'key': 'first_open_time', 'value': {'string_...   \n",
       "\n",
       "       user_first_touch_timestamp user_ltv  \\\n",
       "0                1528480400416000     None   \n",
       "1                1528480400416000     None   \n",
       "2                1528480400416000     None   \n",
       "3                1528480400416000     None   \n",
       "4                1528480400416000     None   \n",
       "...                           ...      ...   \n",
       "49995            1525229952267000     None   \n",
       "49996            1505746073675000     None   \n",
       "49997            1505746073675000     None   \n",
       "49998            1505746073675000     None   \n",
       "49999            1505746073675000     None   \n",
       "\n",
       "                                                  device  \\\n",
       "0      {'category': 'mobile', 'mobile_brand_name': 'n...   \n",
       "1      {'category': 'mobile', 'mobile_brand_name': 'n...   \n",
       "2      {'category': 'mobile', 'mobile_brand_name': 'n...   \n",
       "3      {'category': 'mobile', 'mobile_brand_name': 'n...   \n",
       "4      {'category': 'mobile', 'mobile_brand_name': 'n...   \n",
       "...                                                  ...   \n",
       "49995  {'category': 'tablet', 'mobile_brand_name': 'n...   \n",
       "49996  {'category': 'tablet', 'mobile_brand_name': 'n...   \n",
       "49997  {'category': 'tablet', 'mobile_brand_name': 'n...   \n",
       "49998  {'category': 'tablet', 'mobile_brand_name': 'n...   \n",
       "49999  {'category': 'tablet', 'mobile_brand_name': 'n...   \n",
       "\n",
       "                                                     geo  \\\n",
       "0      {'continent': 'Americas', 'country': 'United S...   \n",
       "1      {'continent': 'Americas', 'country': 'United S...   \n",
       "2      {'continent': 'Americas', 'country': 'United S...   \n",
       "3      {'continent': 'Americas', 'country': 'United S...   \n",
       "4      {'continent': 'Americas', 'country': 'United S...   \n",
       "...                                                  ...   \n",
       "49995  {'continent': 'Americas', 'country': 'United S...   \n",
       "49996  {'continent': 'Asia', 'country': 'Japan', 'reg...   \n",
       "49997  {'continent': 'Asia', 'country': 'Japan', 'reg...   \n",
       "49998  {'continent': 'Asia', 'country': 'Japan', 'reg...   \n",
       "49999  {'continent': 'Asia', 'country': 'Japan', 'reg...   \n",
       "\n",
       "                                                app_info  \\\n",
       "0      {'id': 'com.labpixies.flood', 'version': '2.62...   \n",
       "1      {'id': 'com.labpixies.flood', 'version': '2.62...   \n",
       "2      {'id': 'com.labpixies.flood', 'version': '2.62...   \n",
       "3      {'id': 'com.labpixies.flood', 'version': '2.62...   \n",
       "4      {'id': 'com.labpixies.flood', 'version': '2.62...   \n",
       "...                                                  ...   \n",
       "49995  {'id': 'com.google.flood2', 'version': '2.6.30...   \n",
       "49996  {'id': 'com.google.flood2', 'version': '2.6.30...   \n",
       "49997  {'id': 'com.google.flood2', 'version': '2.6.30...   \n",
       "49998  {'id': 'com.google.flood2', 'version': '2.6.30...   \n",
       "49999  {'id': 'com.google.flood2', 'version': '2.6.30...   \n",
       "\n",
       "                                          traffic_source   stream_id platform  \\\n",
       "0      {'name': None, 'medium': 'organic', 'source': ...  1051193346  ANDROID   \n",
       "1      {'name': None, 'medium': 'organic', 'source': ...  1051193346  ANDROID   \n",
       "2      {'name': None, 'medium': 'organic', 'source': ...  1051193346  ANDROID   \n",
       "3      {'name': None, 'medium': 'organic', 'source': ...  1051193346  ANDROID   \n",
       "4      {'name': None, 'medium': 'organic', 'source': ...  1051193346  ANDROID   \n",
       "...                                                  ...         ...      ...   \n",
       "49995  {'name': '(direct)', 'medium': '(none)', 'sour...  1051193347      IOS   \n",
       "49996  {'name': '(direct)', 'medium': '(none)', 'sour...  1051193347      IOS   \n",
       "49997  {'name': '(direct)', 'medium': '(none)', 'sour...  1051193347      IOS   \n",
       "49998  {'name': '(direct)', 'medium': '(none)', 'sour...  1051193347      IOS   \n",
       "49999  {'name': '(direct)', 'medium': '(none)', 'sour...  1051193347      IOS   \n",
       "\n",
       "      event_dimensions  \n",
       "0                 None  \n",
       "1                 None  \n",
       "2                 None  \n",
       "3                 None  \n",
       "4                 None  \n",
       "...                ...  \n",
       "49995             None  \n",
       "49996             None  \n",
       "49997             None  \n",
       "49998             None  \n",
       "49999             None  \n",
       "\n",
       "[50000 rows x 20 columns]"
      ]
     },
     "execution_count": 4,
     "metadata": {},
     "output_type": "execute_result"
    }
   ],
   "source": [
    "%%bigquery --project $PROJECT_ID\n",
    "\n",
    "SELECT \n",
    "    *\n",
    "FROM\n",
    "  `firebase-public-project.analytics_153293282.events_*`\n",
    "    \n",
    "TABLESAMPLE SYSTEM (1 PERCENT)"
   ]
  },
  {
   "cell_type": "markdown",
   "metadata": {
    "id": "PYBMN963Qydl"
   },
   "source": [
    "Google Analytics 4 で使われるスキーマを確認できましたか。先に述べたように、 Google Analytics 4 はイベントベースの計測モデルを採用しているので、1イベントは1行に対応します。完全なスキーマの説明や各列の詳細については [サポートページ](https://support.google.com/analytics/answer/7029846) を参照してください。一部の列は入れ子になっていて、下記のような詳細情報が含まれています。"
   ]
  },
  {
   "cell_type": "markdown",
   "metadata": {
    "id": "IaM8co6eRsOp"
   },
   "source": [
    "* `app_info`\n",
    "* `device`\n",
    "* `ecommerce`\n",
    "* `event_params`\n",
    "* `geo`\n",
    "* `traffic_source`\n",
    "* `user_properties`"
   ]
  },
  {
   "cell_type": "markdown",
   "metadata": {
    "id": "dLUv-7xNRhAj"
   },
   "source": [
    "下記のクエリでデータの件数を確認します。ユーザ数は1.5万人、イベントは570万件あることがわかります。"
   ]
  },
  {
   "cell_type": "code",
   "execution_count": 5,
   "metadata": {
    "colab": {
     "base_uri": "https://localhost:8080/",
     "height": 77
    },
    "id": "MjqKMGVDRPyZ",
    "outputId": "6c0d76c7-ad92-40de-a689-365867b23281"
   },
   "outputs": [
    {
     "data": {
      "application/vnd.jupyter.widget-view+json": {
       "model_id": "2ba984c82e984947848762949c0ff32f",
       "version_major": 2,
       "version_minor": 0
      },
      "text/plain": [
       "Query is running:   0%|          |"
      ]
     },
     "metadata": {},
     "output_type": "display_data"
    },
    {
     "data": {
      "application/vnd.jupyter.widget-view+json": {
       "model_id": "445e33acaf994b14ab7546f396761050",
       "version_major": 2,
       "version_minor": 0
      },
      "text/plain": [
       "Downloading:   0%|          |"
      ]
     },
     "metadata": {},
     "output_type": "display_data"
    },
    {
     "data": {
      "text/html": [
       "<div>\n",
       "<style scoped>\n",
       "    .dataframe tbody tr th:only-of-type {\n",
       "        vertical-align: middle;\n",
       "    }\n",
       "\n",
       "    .dataframe tbody tr th {\n",
       "        vertical-align: top;\n",
       "    }\n",
       "\n",
       "    .dataframe thead th {\n",
       "        text-align: right;\n",
       "    }\n",
       "</style>\n",
       "<table border=\"1\" class=\"dataframe\">\n",
       "  <thead>\n",
       "    <tr style=\"text-align: right;\">\n",
       "      <th></th>\n",
       "      <th>count_distinct_users</th>\n",
       "      <th>count_events</th>\n",
       "    </tr>\n",
       "  </thead>\n",
       "  <tbody>\n",
       "    <tr>\n",
       "      <th>0</th>\n",
       "      <td>15175</td>\n",
       "      <td>5700000</td>\n",
       "    </tr>\n",
       "  </tbody>\n",
       "</table>\n",
       "</div>"
      ],
      "text/plain": [
       "   count_distinct_users  count_events\n",
       "0                 15175       5700000"
      ]
     },
     "execution_count": 5,
     "metadata": {},
     "output_type": "execute_result"
    }
   ],
   "source": [
    "%%bigquery --project $PROJECT_ID\n",
    "\n",
    "SELECT \n",
    "    COUNT(DISTINCT user_pseudo_id) as count_distinct_users,\n",
    "    COUNT(event_timestamp) as count_events\n",
    "FROM\n",
    "  `firebase-public-project.analytics_153293282.events_*`"
   ]
  },
  {
   "cell_type": "markdown",
   "metadata": {
    "id": "3iHaV9-q1k1i"
   },
   "source": [
    "### 訓練用データの準備"
   ]
  },
  {
   "cell_type": "markdown",
   "metadata": {
    "id": "P358Jo_s8WC0"
   },
   "source": [
    "イベントデータはそのままの形では機械学習モデルの訓練に適した形式にはなっていないので、訓練用データに使うことはできません。このセクションでは、イベントデータを分類モデルの訓練に適した形式に変換します。"
   ]
  },
  {
   "cell_type": "markdown",
   "metadata": {
    "id": "eXl1kSh1yPXk"
   },
   "source": [
    "ユーザが離脱するかどうかを推定するには、下記のような形式の訓練用データが必要です。 "
   ]
  },
  {
   "cell_type": "markdown",
   "metadata": {
    "id": "Xv8ibjMNy_bV"
   },
   "source": [
    "|User ID|User demographic data|User behavioral data|Churned|\n",
    "|-|-|-|-|\n",
    "|User1|(e.g., country, device_type)|(e.g., # of times they did something within a time period)|1\n",
    "|User2|(e.g., country, device_type)|(e.g., # of times they did something within a time period)|0\n",
    "|User3|(e.g., country, device_type)|(e.g., # of times they did something within a time period)|1\n"
   ]
  },
  {
   "cell_type": "markdown",
   "metadata": {
    "id": "HydYCB2jzrzn"
   },
   "source": [
    "訓練用データは次のような列を持ちます。\n",
    "\n",
    "- それぞれの行は一意なユーザIDを持つ\n",
    "- **ユーザ属性データ** の特徴量\n",
    "- **行動データ** の特徴量\n",
    "- 訓練するモデルで推定したい **ラベル** (例: 1 = 離脱する、0 = 定着する)\n",
    "\n",
    "属性または行動データの片方で訓練することも可能ですが、組み合わせることでより精度の高いモデルになることが期待できます。このセクションでは、二者を組み合わせたデータに変換することにします。"
   ]
  },
  {
   "cell_type": "markdown",
   "metadata": {
    "id": "ICpTsrfg2-Cw"
   },
   "source": [
    "この先では、属性、行動、ラベルのそれぞれについて加工を行い、最後に3つのデータを結合します。\n",
    "\n",
    "1. ユーザごとのラベルの付与（離脱、定着）\n",
    "1. ユーザの属性情報の抽出\n",
    "1. ユーザの行動情報の抽出\n",
    "1. ラベル、属性、行動データを結合し、訓練データとする"
   ]
  },
  {
   "cell_type": "markdown",
   "metadata": {
    "id": "ZYHefnNx21lO"
   },
   "source": [
    "#### ステップ 1: ユーザごとのラベルの付与"
   ]
  },
  {
   "cell_type": "markdown",
   "metadata": {
    "id": "Qt6a5Kv-25iq"
   },
   "source": [
    "データセットそのものにはユーザの「離脱」「定着」を直接示すような特徴量は存在しません。このセクションでは、既存の列を使い、ラベルを作成します。"
   ]
  },
  {
   "cell_type": "markdown",
   "metadata": {
    "id": "lgqxD30Hl6FM"
   },
   "source": [
    "ユーザの離脱にはさまざまな定義が考えられますが、このノートブックではインストール時から24時間経過した後に使わなくなったことと定義します。\n",
    "\n",
    "言い換えると、24時間経過後\n",
    "- ユーザの行動が _記録されていない_ 場合、そのユーザは **離脱した** と判断します。 \n",
    "- ユーザの行動が _少なくとも1件記録されていれば_ 、ユーザは **定着した** と判断します。\n",
    "\n",
    "また、アプリを起動してすぐに終了してしまったユーザ（ **直帰** ）も再度利用する可能性は低いと想定されるため、これらのユーザも区別することにします。\n",
    "直帰したユーザを外し、少なくとも10分はアプリを使ったユーザのデータに絞ってモデルを作ることにします。\n",
    "\n",
    "これを加味すると **離脱ユーザ** の定義は次のようになります。\n",
    "> \"最低10分はアプリを利用したが、24時間経過後はアプリを利用しなかったユーザ\"\n"
   ]
  },
  {
   "cell_type": "markdown",
   "metadata": {
    "id": "_YyxwMQQ1uQW"
   },
   "source": [
    "生データには、初回（アプリのインストール）から最後の行動までそれぞれのユーザの全てのイベントが保持されているため、SQL を使ってデータを加工し、`churned` と `bounced` のラベルを付与します。"
   ]
  },
  {
   "cell_type": "markdown",
   "metadata": {
    "id": "d_JCCtuZVzne"
   },
   "source": [
    "SQL の内容と実行結果を確認してください。"
   ]
  },
  {
   "cell_type": "code",
   "execution_count": 6,
   "metadata": {
    "colab": {
     "base_uri": "https://localhost:8080/",
     "height": 531
    },
    "id": "_QQO3POV2EQ4",
    "outputId": "8369d0bd-8527-42bd-d1c6-aa8e4c380cb0"
   },
   "outputs": [
    {
     "data": {
      "application/vnd.jupyter.widget-view+json": {
       "model_id": "1e3b24063a284314bdf27e6c942628ff",
       "version_major": 2,
       "version_minor": 0
      },
      "text/plain": [
       "Query is running:   0%|          |"
      ]
     },
     "metadata": {},
     "output_type": "display_data"
    },
    {
     "data": {
      "application/vnd.jupyter.widget-view+json": {
       "model_id": "cde32ef31d1d40a08014155ea6209865",
       "version_major": 2,
       "version_minor": 0
      },
      "text/plain": [
       "Downloading:   0%|          |"
      ]
     },
     "metadata": {},
     "output_type": "display_data"
    },
    {
     "data": {
      "text/html": [
       "<div>\n",
       "<style scoped>\n",
       "    .dataframe tbody tr th:only-of-type {\n",
       "        vertical-align: middle;\n",
       "    }\n",
       "\n",
       "    .dataframe tbody tr th {\n",
       "        vertical-align: top;\n",
       "    }\n",
       "\n",
       "    .dataframe thead th {\n",
       "        text-align: right;\n",
       "    }\n",
       "</style>\n",
       "<table border=\"1\" class=\"dataframe\">\n",
       "  <thead>\n",
       "    <tr style=\"text-align: right;\">\n",
       "      <th></th>\n",
       "      <th>user_pseudo_id</th>\n",
       "      <th>user_first_engagement</th>\n",
       "      <th>user_last_engagement</th>\n",
       "      <th>month</th>\n",
       "      <th>julianday</th>\n",
       "      <th>dayofweek</th>\n",
       "      <th>ts_24hr_after_first_engagement</th>\n",
       "      <th>churned</th>\n",
       "      <th>bounced</th>\n",
       "    </tr>\n",
       "  </thead>\n",
       "  <tbody>\n",
       "    <tr>\n",
       "      <th>0</th>\n",
       "      <td>2F2B5C88B72A5253AAF448B1E29333F5</td>\n",
       "      <td>1528818508645015</td>\n",
       "      <td>1538232573810027</td>\n",
       "      <td>6</td>\n",
       "      <td>163</td>\n",
       "      <td>3</td>\n",
       "      <td>1528904908645015</td>\n",
       "      <td>0</td>\n",
       "      <td>0</td>\n",
       "    </tr>\n",
       "    <tr>\n",
       "      <th>1</th>\n",
       "      <td>38CB6C26C2AA954E22F9EDC61DAEF372</td>\n",
       "      <td>1528991283074002</td>\n",
       "      <td>1530148070034004</td>\n",
       "      <td>6</td>\n",
       "      <td>165</td>\n",
       "      <td>5</td>\n",
       "      <td>1529077683074002</td>\n",
       "      <td>0</td>\n",
       "      <td>0</td>\n",
       "    </tr>\n",
       "    <tr>\n",
       "      <th>2</th>\n",
       "      <td>17CCC6417A528996BFB7D538189F62F1</td>\n",
       "      <td>1529017019882001</td>\n",
       "      <td>1529028504171043</td>\n",
       "      <td>6</td>\n",
       "      <td>165</td>\n",
       "      <td>5</td>\n",
       "      <td>1529103419882001</td>\n",
       "      <td>1</td>\n",
       "      <td>0</td>\n",
       "    </tr>\n",
       "    <tr>\n",
       "      <th>3</th>\n",
       "      <td>8EDB9A9856CDB5AFC42546106EE46734</td>\n",
       "      <td>1528983800943011</td>\n",
       "      <td>1534963681392018</td>\n",
       "      <td>6</td>\n",
       "      <td>165</td>\n",
       "      <td>5</td>\n",
       "      <td>1529070200943011</td>\n",
       "      <td>0</td>\n",
       "      <td>0</td>\n",
       "    </tr>\n",
       "    <tr>\n",
       "      <th>4</th>\n",
       "      <td>8C2CF4B79095AB25D5B6286615DA86A9</td>\n",
       "      <td>1528836405104004</td>\n",
       "      <td>1531556983880164</td>\n",
       "      <td>6</td>\n",
       "      <td>163</td>\n",
       "      <td>3</td>\n",
       "      <td>1528922805104004</td>\n",
       "      <td>0</td>\n",
       "      <td>0</td>\n",
       "    </tr>\n",
       "    <tr>\n",
       "      <th>...</th>\n",
       "      <td>...</td>\n",
       "      <td>...</td>\n",
       "      <td>...</td>\n",
       "      <td>...</td>\n",
       "      <td>...</td>\n",
       "      <td>...</td>\n",
       "      <td>...</td>\n",
       "      <td>...</td>\n",
       "      <td>...</td>\n",
       "    </tr>\n",
       "    <tr>\n",
       "      <th>95</th>\n",
       "      <td>D45CF251C60626FDB4BB8D50ABB7BA46</td>\n",
       "      <td>1529701919006000</td>\n",
       "      <td>1538406006957078</td>\n",
       "      <td>6</td>\n",
       "      <td>173</td>\n",
       "      <td>6</td>\n",
       "      <td>1529788319006000</td>\n",
       "      <td>0</td>\n",
       "      <td>0</td>\n",
       "    </tr>\n",
       "    <tr>\n",
       "      <th>96</th>\n",
       "      <td>5DAD69BB86295E7F73CC8EAA4BFD473A</td>\n",
       "      <td>1531812211399002</td>\n",
       "      <td>1535248619011010</td>\n",
       "      <td>7</td>\n",
       "      <td>198</td>\n",
       "      <td>3</td>\n",
       "      <td>1531898611399002</td>\n",
       "      <td>0</td>\n",
       "      <td>0</td>\n",
       "    </tr>\n",
       "    <tr>\n",
       "      <th>97</th>\n",
       "      <td>051BB6E9EC8D2B13A70DB57A132B1A2F</td>\n",
       "      <td>1531835194253005</td>\n",
       "      <td>1532960775419069</td>\n",
       "      <td>7</td>\n",
       "      <td>198</td>\n",
       "      <td>3</td>\n",
       "      <td>1531921594253005</td>\n",
       "      <td>0</td>\n",
       "      <td>0</td>\n",
       "    </tr>\n",
       "    <tr>\n",
       "      <th>98</th>\n",
       "      <td>E99D4AD5E5663BABE4AC08C027C775EF</td>\n",
       "      <td>1530589430127001</td>\n",
       "      <td>1531878780302008</td>\n",
       "      <td>7</td>\n",
       "      <td>184</td>\n",
       "      <td>3</td>\n",
       "      <td>1530675830127001</td>\n",
       "      <td>0</td>\n",
       "      <td>0</td>\n",
       "    </tr>\n",
       "    <tr>\n",
       "      <th>99</th>\n",
       "      <td>0D791C00AF304C3BDDA26EF979A320C8</td>\n",
       "      <td>1529618893090009</td>\n",
       "      <td>1538085975749009</td>\n",
       "      <td>6</td>\n",
       "      <td>172</td>\n",
       "      <td>5</td>\n",
       "      <td>1529705293090009</td>\n",
       "      <td>0</td>\n",
       "      <td>0</td>\n",
       "    </tr>\n",
       "  </tbody>\n",
       "</table>\n",
       "<p>100 rows × 9 columns</p>\n",
       "</div>"
      ],
      "text/plain": [
       "                      user_pseudo_id  user_first_engagement  \\\n",
       "0   2F2B5C88B72A5253AAF448B1E29333F5       1528818508645015   \n",
       "1   38CB6C26C2AA954E22F9EDC61DAEF372       1528991283074002   \n",
       "2   17CCC6417A528996BFB7D538189F62F1       1529017019882001   \n",
       "3   8EDB9A9856CDB5AFC42546106EE46734       1528983800943011   \n",
       "4   8C2CF4B79095AB25D5B6286615DA86A9       1528836405104004   \n",
       "..                               ...                    ...   \n",
       "95  D45CF251C60626FDB4BB8D50ABB7BA46       1529701919006000   \n",
       "96  5DAD69BB86295E7F73CC8EAA4BFD473A       1531812211399002   \n",
       "97  051BB6E9EC8D2B13A70DB57A132B1A2F       1531835194253005   \n",
       "98  E99D4AD5E5663BABE4AC08C027C775EF       1530589430127001   \n",
       "99  0D791C00AF304C3BDDA26EF979A320C8       1529618893090009   \n",
       "\n",
       "    user_last_engagement  month  julianday  dayofweek  \\\n",
       "0       1538232573810027      6        163          3   \n",
       "1       1530148070034004      6        165          5   \n",
       "2       1529028504171043      6        165          5   \n",
       "3       1534963681392018      6        165          5   \n",
       "4       1531556983880164      6        163          3   \n",
       "..                   ...    ...        ...        ...   \n",
       "95      1538406006957078      6        173          6   \n",
       "96      1535248619011010      7        198          3   \n",
       "97      1532960775419069      7        198          3   \n",
       "98      1531878780302008      7        184          3   \n",
       "99      1538085975749009      6        172          5   \n",
       "\n",
       "    ts_24hr_after_first_engagement  churned  bounced  \n",
       "0                 1528904908645015        0        0  \n",
       "1                 1529077683074002        0        0  \n",
       "2                 1529103419882001        1        0  \n",
       "3                 1529070200943011        0        0  \n",
       "4                 1528922805104004        0        0  \n",
       "..                             ...      ...      ...  \n",
       "95                1529788319006000        0        0  \n",
       "96                1531898611399002        0        0  \n",
       "97                1531921594253005        0        0  \n",
       "98                1530675830127001        0        0  \n",
       "99                1529705293090009        0        0  \n",
       "\n",
       "[100 rows x 9 columns]"
      ]
     },
     "execution_count": 6,
     "metadata": {},
     "output_type": "execute_result"
    }
   ],
   "source": [
    "%%bigquery --project $PROJECT_ID \n",
    "\n",
    "CREATE OR REPLACE VIEW bqmlga4.returningusers AS (\n",
    "  WITH firstlasttouch AS (\n",
    "    SELECT\n",
    "      user_pseudo_id,\n",
    "      MIN(event_timestamp) AS user_first_engagement,\n",
    "      MAX(event_timestamp) AS user_last_engagement\n",
    "    FROM\n",
    "      `firebase-public-project.analytics_153293282.events_*`\n",
    "    WHERE event_name=\"user_engagement\"\n",
    "    GROUP BY\n",
    "      user_pseudo_id\n",
    "\n",
    "  )\n",
    "  SELECT\n",
    "    user_pseudo_id,\n",
    "    user_first_engagement,\n",
    "    user_last_engagement,\n",
    "    EXTRACT(MONTH from TIMESTAMP_MICROS(user_first_engagement)) as month,\n",
    "    EXTRACT(DAYOFYEAR from TIMESTAMP_MICROS(user_first_engagement)) as julianday,\n",
    "    EXTRACT(DAYOFWEEK from TIMESTAMP_MICROS(user_first_engagement)) as dayofweek,\n",
    "\n",
    "    #add 24 hr to user's first touch\n",
    "    (user_first_engagement + 86400000000) AS ts_24hr_after_first_engagement,\n",
    "\n",
    "#churned = 1 if last_touch within 24 hr of app installation, else 0\n",
    "IF (user_last_engagement < (user_first_engagement + 86400000000),\n",
    "    1,\n",
    "    0 ) AS churned,\n",
    "\n",
    "#bounced = 1 if last_touch within 10 min, else 0\n",
    "IF (user_last_engagement <= (user_first_engagement + 600000000),\n",
    "    1,\n",
    "    0 ) AS bounced,\n",
    "  FROM\n",
    "    firstlasttouch\n",
    "  GROUP BY\n",
    "    1,2,3\n",
    "    );\n",
    "\n",
    "SELECT \n",
    "  * \n",
    "FROM \n",
    "  bqmlga4.returningusers \n",
    "LIMIT 100;"
   ]
  },
  {
   "cell_type": "markdown",
   "metadata": {
    "id": "FOoqPb2J2Q5f"
   },
   "source": [
    "`churned` 列について: `churned=0` はユーザが24時間経過後もアプリを利用している場合です。それ以外は24時間以内にアプリの操作が終わっているので、`churned=1` になります。"
   ]
  },
  {
   "cell_type": "markdown",
   "metadata": {
    "id": "sC3sIc0C2a4Z"
   },
   "source": [
    "`bounced` 列について: `bounced=1` ユーザの操作が全て10分以内に収まっている場合です。それ以外は `bounced=0` になります。この後、直帰ユーザを訓練用データから外すため、`bounced = 0` の条件を付けてフィルタします。"
   ]
  },
  {
   "cell_type": "markdown",
   "metadata": {
    "id": "ulbfb8SY2fSM"
   },
   "source": [
    "1.5万人のユーザのうち、どのくらい直帰または定着したのか確認しましょう。"
   ]
  },
  {
   "cell_type": "code",
   "execution_count": 7,
   "metadata": {
    "colab": {
     "base_uri": "https://localhost:8080/",
     "height": 136
    },
    "id": "gC32zyIE2olw",
    "outputId": "6c51e523-0a4f-4a8d-a4c4-e0f7f0131925"
   },
   "outputs": [
    {
     "data": {
      "application/vnd.jupyter.widget-view+json": {
       "model_id": "fed69f78bd614e51bb7a0b119c60c11d",
       "version_major": 2,
       "version_minor": 0
      },
      "text/plain": [
       "Query is running:   0%|          |"
      ]
     },
     "metadata": {},
     "output_type": "display_data"
    },
    {
     "data": {
      "application/vnd.jupyter.widget-view+json": {
       "model_id": "b750dc05816a477297cc2bfb749e53eb",
       "version_major": 2,
       "version_minor": 0
      },
      "text/plain": [
       "Downloading:   0%|          |"
      ]
     },
     "metadata": {},
     "output_type": "display_data"
    },
    {
     "data": {
      "text/html": [
       "<div>\n",
       "<style scoped>\n",
       "    .dataframe tbody tr th:only-of-type {\n",
       "        vertical-align: middle;\n",
       "    }\n",
       "\n",
       "    .dataframe tbody tr th {\n",
       "        vertical-align: top;\n",
       "    }\n",
       "\n",
       "    .dataframe thead th {\n",
       "        text-align: right;\n",
       "    }\n",
       "</style>\n",
       "<table border=\"1\" class=\"dataframe\">\n",
       "  <thead>\n",
       "    <tr style=\"text-align: right;\">\n",
       "      <th></th>\n",
       "      <th>bounced</th>\n",
       "      <th>churned</th>\n",
       "      <th>count_users</th>\n",
       "    </tr>\n",
       "  </thead>\n",
       "  <tbody>\n",
       "    <tr>\n",
       "      <th>0</th>\n",
       "      <td>0</td>\n",
       "      <td>0</td>\n",
       "      <td>6148</td>\n",
       "    </tr>\n",
       "    <tr>\n",
       "      <th>1</th>\n",
       "      <td>0</td>\n",
       "      <td>1</td>\n",
       "      <td>1883</td>\n",
       "    </tr>\n",
       "    <tr>\n",
       "      <th>2</th>\n",
       "      <td>1</td>\n",
       "      <td>1</td>\n",
       "      <td>5557</td>\n",
       "    </tr>\n",
       "  </tbody>\n",
       "</table>\n",
       "</div>"
      ],
      "text/plain": [
       "   bounced  churned  count_users\n",
       "0        0        0         6148\n",
       "1        0        1         1883\n",
       "2        1        1         5557"
      ]
     },
     "execution_count": 7,
     "metadata": {},
     "output_type": "execute_result"
    }
   ],
   "source": [
    "%%bigquery --project $PROJECT_ID\n",
    "\n",
    "SELECT\n",
    "    bounced,\n",
    "    churned, \n",
    "    COUNT(churned) as count_users\n",
    "FROM\n",
    "    bqmlga4.returningusers\n",
    "GROUP BY 1,2\n",
    "ORDER BY bounced"
   ]
  },
  {
   "cell_type": "markdown",
   "metadata": {
    "id": "Z29RsKJi2uwO"
   },
   "source": [
    "最終的な訓練用データでは `bounced = 0` のユーザのみ使います。5,557 (\\~41%) ユーザは10分以内に直帰しました。残りの 8,031 ユーザの中では、 1,883 ユーザ (\\~23%) が24時間後には離脱しました。"
   ]
  },
  {
   "cell_type": "code",
   "execution_count": 8,
   "metadata": {
    "colab": {
     "base_uri": "https://localhost:8080/",
     "height": 77
    },
    "id": "ZStzVtgEIkzh",
    "outputId": "15b2abb5-f966-4363-f7f6-b676f6b521b8"
   },
   "outputs": [
    {
     "data": {
      "application/vnd.jupyter.widget-view+json": {
       "model_id": "0d01012a2cc3467284909dc872a42570",
       "version_major": 2,
       "version_minor": 0
      },
      "text/plain": [
       "Query is running:   0%|          |"
      ]
     },
     "metadata": {},
     "output_type": "display_data"
    },
    {
     "data": {
      "application/vnd.jupyter.widget-view+json": {
       "model_id": "be69d89359d4468782a626025fe8b46a",
       "version_major": 2,
       "version_minor": 0
      },
      "text/plain": [
       "Downloading:   0%|          |"
      ]
     },
     "metadata": {},
     "output_type": "display_data"
    },
    {
     "data": {
      "text/html": [
       "<div>\n",
       "<style scoped>\n",
       "    .dataframe tbody tr th:only-of-type {\n",
       "        vertical-align: middle;\n",
       "    }\n",
       "\n",
       "    .dataframe tbody tr th {\n",
       "        vertical-align: top;\n",
       "    }\n",
       "\n",
       "    .dataframe thead th {\n",
       "        text-align: right;\n",
       "    }\n",
       "</style>\n",
       "<table border=\"1\" class=\"dataframe\">\n",
       "  <thead>\n",
       "    <tr style=\"text-align: right;\">\n",
       "      <th></th>\n",
       "      <th>churn_rate</th>\n",
       "    </tr>\n",
       "  </thead>\n",
       "  <tbody>\n",
       "    <tr>\n",
       "      <th>0</th>\n",
       "      <td>0.234</td>\n",
       "    </tr>\n",
       "  </tbody>\n",
       "</table>\n",
       "</div>"
      ],
      "text/plain": [
       "   churn_rate\n",
       "0       0.234"
      ]
     },
     "execution_count": 8,
     "metadata": {},
     "output_type": "execute_result"
    }
   ],
   "source": [
    "%%bigquery --project $PROJECT_ID\n",
    "\n",
    "SELECT\n",
    "    COUNTIF(churned=1)/COUNT(churned) as churn_rate\n",
    "FROM\n",
    "    bqmlga4.returningusers\n",
    "WHERE bounced = 0"
   ]
  },
  {
   "cell_type": "markdown",
   "metadata": {
    "id": "daSQViux_XWR"
   },
   "source": [
    "#### ステップ 2. ユーザの属性情報の抽出"
   ]
  },
  {
   "cell_type": "markdown",
   "metadata": {
    "id": "qcC2JJ6W_-sb"
   },
   "source": [
    "このセクションではそれぞれのユーザの属性情報を抽出します。\n",
    "データセットにはすでに`app_info`, `device`, `ecommerce`, `event_params`, `geo`のような情報が含まれています。例えば、特定のデバイスや国のユーザが離脱しやすいというような分析ができます。\n",
    "\n",
    "このノートブックでは、`geo.country`, `device.operating_system`, `device.language` を使います。\n",
    "\n",
    "一部の属性は途中で変化する可能性があります。例えば、国をまたいだ移動です。ここでは、単純に扱うため、Google Analytics 4 に最初に記録されたときの属性値をそれぞれのユーザの属性とみなします。ユーザ毎に`MIN(event_timestamp)` と集計することでこれは実現します。この変換を行うことで、1ユーザ1行になります。"
   ]
  },
  {
   "cell_type": "code",
   "execution_count": 9,
   "metadata": {
    "colab": {
     "base_uri": "https://localhost:8080/",
     "height": 343
    },
    "id": "gc47WFyM_5nQ",
    "outputId": "5c545aef-eaa8-451e-8443-38461d2c9923"
   },
   "outputs": [
    {
     "data": {
      "application/vnd.jupyter.widget-view+json": {
       "model_id": "b48eea0f61e54fd78180e635a4a95e20",
       "version_major": 2,
       "version_minor": 0
      },
      "text/plain": [
       "Query is running:   0%|          |"
      ]
     },
     "metadata": {},
     "output_type": "display_data"
    },
    {
     "data": {
      "application/vnd.jupyter.widget-view+json": {
       "model_id": "b05950c450034c7bbbd1848195540b31",
       "version_major": 2,
       "version_minor": 0
      },
      "text/plain": [
       "Downloading:   0%|          |"
      ]
     },
     "metadata": {},
     "output_type": "display_data"
    },
    {
     "data": {
      "text/html": [
       "<div>\n",
       "<style scoped>\n",
       "    .dataframe tbody tr th:only-of-type {\n",
       "        vertical-align: middle;\n",
       "    }\n",
       "\n",
       "    .dataframe tbody tr th {\n",
       "        vertical-align: top;\n",
       "    }\n",
       "\n",
       "    .dataframe thead th {\n",
       "        text-align: right;\n",
       "    }\n",
       "</style>\n",
       "<table border=\"1\" class=\"dataframe\">\n",
       "  <thead>\n",
       "    <tr style=\"text-align: right;\">\n",
       "      <th></th>\n",
       "      <th>user_pseudo_id</th>\n",
       "      <th>country</th>\n",
       "      <th>operating_system</th>\n",
       "      <th>language</th>\n",
       "    </tr>\n",
       "  </thead>\n",
       "  <tbody>\n",
       "    <tr>\n",
       "      <th>0</th>\n",
       "      <td>01DADD290826872CB449CB1005A423AB</td>\n",
       "      <td>United States</td>\n",
       "      <td>None</td>\n",
       "      <td>en-us</td>\n",
       "    </tr>\n",
       "    <tr>\n",
       "      <th>1</th>\n",
       "      <td>02311BD462580F5DF942A0D6D05ED877</td>\n",
       "      <td>United States</td>\n",
       "      <td>IOS</td>\n",
       "      <td>en-us</td>\n",
       "    </tr>\n",
       "    <tr>\n",
       "      <th>2</th>\n",
       "      <td>02508ACF3E0BA4D0C4770C03817AFDE3</td>\n",
       "      <td>Bangladesh</td>\n",
       "      <td>ANDROID</td>\n",
       "      <td>en-us</td>\n",
       "    </tr>\n",
       "    <tr>\n",
       "      <th>3</th>\n",
       "      <td>02887D8373139F1D3A223AD62B76CE7A</td>\n",
       "      <td>France</td>\n",
       "      <td>ANDROID</td>\n",
       "      <td>fr-fr</td>\n",
       "    </tr>\n",
       "    <tr>\n",
       "      <th>4</th>\n",
       "      <td>04057328B7683ABE11C40CEC50ABF2C1</td>\n",
       "      <td>China</td>\n",
       "      <td>IOS</td>\n",
       "      <td>zh-hans-cn</td>\n",
       "    </tr>\n",
       "    <tr>\n",
       "      <th>5</th>\n",
       "      <td>044F3B46E3C2402F9BF4EADCE5C5710A</td>\n",
       "      <td>United States</td>\n",
       "      <td>IOS</td>\n",
       "      <td>en-us</td>\n",
       "    </tr>\n",
       "    <tr>\n",
       "      <th>6</th>\n",
       "      <td>050A6530B5D97065581BBD2A9F7F19C5</td>\n",
       "      <td>Canada</td>\n",
       "      <td>ANDROID</td>\n",
       "      <td>en-ca</td>\n",
       "    </tr>\n",
       "    <tr>\n",
       "      <th>7</th>\n",
       "      <td>05C3616722D042AB16D2F6FEF2409F3F</td>\n",
       "      <td>United States</td>\n",
       "      <td>IOS</td>\n",
       "      <td>en-us</td>\n",
       "    </tr>\n",
       "    <tr>\n",
       "      <th>8</th>\n",
       "      <td>079FE8543EB46F5109283B58A75E8F3D</td>\n",
       "      <td>United States</td>\n",
       "      <td>IOS</td>\n",
       "      <td>en-us</td>\n",
       "    </tr>\n",
       "    <tr>\n",
       "      <th>9</th>\n",
       "      <td>0A507AE0DB56197CB90D0FE9439EEC08</td>\n",
       "      <td>United States</td>\n",
       "      <td>ANDROID</td>\n",
       "      <td>en-us</td>\n",
       "    </tr>\n",
       "  </tbody>\n",
       "</table>\n",
       "</div>"
      ],
      "text/plain": [
       "                     user_pseudo_id        country operating_system  \\\n",
       "0  01DADD290826872CB449CB1005A423AB  United States             None   \n",
       "1  02311BD462580F5DF942A0D6D05ED877  United States              IOS   \n",
       "2  02508ACF3E0BA4D0C4770C03817AFDE3     Bangladesh          ANDROID   \n",
       "3  02887D8373139F1D3A223AD62B76CE7A         France          ANDROID   \n",
       "4  04057328B7683ABE11C40CEC50ABF2C1          China              IOS   \n",
       "5  044F3B46E3C2402F9BF4EADCE5C5710A  United States              IOS   \n",
       "6  050A6530B5D97065581BBD2A9F7F19C5         Canada          ANDROID   \n",
       "7  05C3616722D042AB16D2F6FEF2409F3F  United States              IOS   \n",
       "8  079FE8543EB46F5109283B58A75E8F3D  United States              IOS   \n",
       "9  0A507AE0DB56197CB90D0FE9439EEC08  United States          ANDROID   \n",
       "\n",
       "     language  \n",
       "0       en-us  \n",
       "1       en-us  \n",
       "2       en-us  \n",
       "3       fr-fr  \n",
       "4  zh-hans-cn  \n",
       "5       en-us  \n",
       "6       en-ca  \n",
       "7       en-us  \n",
       "8       en-us  \n",
       "9       en-us  "
      ]
     },
     "execution_count": 9,
     "metadata": {},
     "output_type": "execute_result"
    }
   ],
   "source": [
    "%%bigquery --project $PROJECT_ID\n",
    "\n",
    "CREATE OR REPLACE VIEW bqmlga4.user_demographics AS (\n",
    "\n",
    "  WITH first_values AS (\n",
    "      SELECT\n",
    "          user_pseudo_id,\n",
    "          geo.country as country,\n",
    "          device.operating_system as operating_system,\n",
    "          device.language as language,\n",
    "          ROW_NUMBER() OVER (PARTITION BY user_pseudo_id ORDER BY event_timestamp DESC) AS row_num\n",
    "      FROM `firebase-public-project.analytics_153293282.events_*`\n",
    "      WHERE event_name=\"user_engagement\"\n",
    "      )\n",
    "  SELECT * EXCEPT (row_num)\n",
    "  FROM first_values\n",
    "  WHERE row_num = 1\n",
    "  );\n",
    "\n",
    "SELECT\n",
    "  *\n",
    "FROM\n",
    "  bqmlga4.user_demographics\n",
    "LIMIT 10"
   ]
  },
  {
   "cell_type": "markdown",
   "metadata": {
    "id": "Nxv9yaTt2zD1"
   },
   "source": [
    "#### ステップ 3. ユーザの行動情報の抽出"
   ]
  },
  {
   "cell_type": "markdown",
   "metadata": {
    "id": "c_9qPkVAfmpY"
   },
   "source": [
    "1ユーザの行動データは複数のイベントとして記録されているため、行数も複数になります。\n",
    "これらを集計して、1ユーザ1行にすることがこのセクションの目的です。\n",
    "\n",
    "どのような行動データを準備すれば、アプリインストールから24時間のデータを元に離脱するか判定できるでしょうか。\n",
    "`user_first_engagement` からユーザがアプリをインストールした月や曜日を抽出することもできます。\n",
    "\n",
    "Google Analytics は自動的に [イベント](https://support.google.com/analytics/answer/6317485) を収集します。加えて、[ゲーム向けのイベント](https://support.google.com/analytics/answer/6317494)を使うことが推奨されています。\n",
    "\n",
    "まずは、どのようなイベントが存在するのかを確認します。`event_name` 列を参照します。"
   ]
  },
  {
   "cell_type": "code",
   "execution_count": 10,
   "metadata": {
    "colab": {
     "base_uri": "https://localhost:8080/",
     "height": 1000
    },
    "id": "XsXBNmeAf3fI",
    "outputId": "da0f4a32-83ba-42e5-c381-49178c44f5f1"
   },
   "outputs": [
    {
     "data": {
      "application/vnd.jupyter.widget-view+json": {
       "model_id": "287f7e2a78574281845b12c61e9d53fa",
       "version_major": 2,
       "version_minor": 0
      },
      "text/plain": [
       "Query is running:   0%|          |"
      ]
     },
     "metadata": {},
     "output_type": "display_data"
    },
    {
     "data": {
      "application/vnd.jupyter.widget-view+json": {
       "model_id": "58bb5658f99b4882ab3b397a40f035a0",
       "version_major": 2,
       "version_minor": 0
      },
      "text/plain": [
       "Downloading:   0%|          |"
      ]
     },
     "metadata": {},
     "output_type": "display_data"
    },
    {
     "data": {
      "text/html": [
       "<div>\n",
       "<style scoped>\n",
       "    .dataframe tbody tr th:only-of-type {\n",
       "        vertical-align: middle;\n",
       "    }\n",
       "\n",
       "    .dataframe tbody tr th {\n",
       "        vertical-align: top;\n",
       "    }\n",
       "\n",
       "    .dataframe thead th {\n",
       "        text-align: right;\n",
       "    }\n",
       "</style>\n",
       "<table border=\"1\" class=\"dataframe\">\n",
       "  <thead>\n",
       "    <tr style=\"text-align: right;\">\n",
       "      <th></th>\n",
       "      <th>event_name</th>\n",
       "      <th>event_count</th>\n",
       "    </tr>\n",
       "  </thead>\n",
       "  <tbody>\n",
       "    <tr>\n",
       "      <th>0</th>\n",
       "      <td>screen_view</td>\n",
       "      <td>2247623</td>\n",
       "    </tr>\n",
       "    <tr>\n",
       "      <th>1</th>\n",
       "      <td>user_engagement</td>\n",
       "      <td>1358958</td>\n",
       "    </tr>\n",
       "    <tr>\n",
       "      <th>2</th>\n",
       "      <td>level_start_quickplay</td>\n",
       "      <td>523430</td>\n",
       "    </tr>\n",
       "    <tr>\n",
       "      <th>3</th>\n",
       "      <td>level_end_quickplay</td>\n",
       "      <td>349729</td>\n",
       "    </tr>\n",
       "    <tr>\n",
       "      <th>4</th>\n",
       "      <td>post_score</td>\n",
       "      <td>242051</td>\n",
       "    </tr>\n",
       "    <tr>\n",
       "      <th>5</th>\n",
       "      <td>level_complete_quickplay</td>\n",
       "      <td>191088</td>\n",
       "    </tr>\n",
       "    <tr>\n",
       "      <th>6</th>\n",
       "      <td>level_fail_quickplay</td>\n",
       "      <td>137035</td>\n",
       "    </tr>\n",
       "    <tr>\n",
       "      <th>7</th>\n",
       "      <td>level_reset_quickplay</td>\n",
       "      <td>122278</td>\n",
       "    </tr>\n",
       "    <tr>\n",
       "      <th>8</th>\n",
       "      <td>select_content</td>\n",
       "      <td>105139</td>\n",
       "    </tr>\n",
       "    <tr>\n",
       "      <th>9</th>\n",
       "      <td>level_start</td>\n",
       "      <td>74417</td>\n",
       "    </tr>\n",
       "    <tr>\n",
       "      <th>10</th>\n",
       "      <td>session_start</td>\n",
       "      <td>74353</td>\n",
       "    </tr>\n",
       "    <tr>\n",
       "      <th>11</th>\n",
       "      <td>level_end</td>\n",
       "      <td>54582</td>\n",
       "    </tr>\n",
       "    <tr>\n",
       "      <th>12</th>\n",
       "      <td>level_retry</td>\n",
       "      <td>43345</td>\n",
       "    </tr>\n",
       "    <tr>\n",
       "      <th>13</th>\n",
       "      <td>level_up</td>\n",
       "      <td>35666</td>\n",
       "    </tr>\n",
       "    <tr>\n",
       "      <th>14</th>\n",
       "      <td>level_complete</td>\n",
       "      <td>33986</td>\n",
       "    </tr>\n",
       "    <tr>\n",
       "      <th>15</th>\n",
       "      <td>level_retry_quickplay</td>\n",
       "      <td>29939</td>\n",
       "    </tr>\n",
       "    <tr>\n",
       "      <th>16</th>\n",
       "      <td>level_fail</td>\n",
       "      <td>17353</td>\n",
       "    </tr>\n",
       "    <tr>\n",
       "      <th>17</th>\n",
       "      <td>spend_virtual_currency</td>\n",
       "      <td>9363</td>\n",
       "    </tr>\n",
       "    <tr>\n",
       "      <th>18</th>\n",
       "      <td>use_extra_steps</td>\n",
       "      <td>8945</td>\n",
       "    </tr>\n",
       "    <tr>\n",
       "      <th>19</th>\n",
       "      <td>level_reset</td>\n",
       "      <td>8535</td>\n",
       "    </tr>\n",
       "    <tr>\n",
       "      <th>20</th>\n",
       "      <td>firebase_campaign</td>\n",
       "      <td>5411</td>\n",
       "    </tr>\n",
       "    <tr>\n",
       "      <th>21</th>\n",
       "      <td>app_exception</td>\n",
       "      <td>5156</td>\n",
       "    </tr>\n",
       "    <tr>\n",
       "      <th>22</th>\n",
       "      <td>first_open</td>\n",
       "      <td>4322</td>\n",
       "    </tr>\n",
       "    <tr>\n",
       "      <th>23</th>\n",
       "      <td>os_update</td>\n",
       "      <td>3290</td>\n",
       "    </tr>\n",
       "    <tr>\n",
       "      <th>24</th>\n",
       "      <td>no_more_extra_steps</td>\n",
       "      <td>2792</td>\n",
       "    </tr>\n",
       "    <tr>\n",
       "      <th>25</th>\n",
       "      <td>app_remove</td>\n",
       "      <td>2639</td>\n",
       "    </tr>\n",
       "    <tr>\n",
       "      <th>26</th>\n",
       "      <td>app_update</td>\n",
       "      <td>2473</td>\n",
       "    </tr>\n",
       "    <tr>\n",
       "      <th>27</th>\n",
       "      <td>ad_reward</td>\n",
       "      <td>1912</td>\n",
       "    </tr>\n",
       "    <tr>\n",
       "      <th>28</th>\n",
       "      <td>completed_5_levels</td>\n",
       "      <td>1867</td>\n",
       "    </tr>\n",
       "    <tr>\n",
       "      <th>29</th>\n",
       "      <td>error</td>\n",
       "      <td>1714</td>\n",
       "    </tr>\n",
       "    <tr>\n",
       "      <th>30</th>\n",
       "      <td>challenge_a_friend</td>\n",
       "      <td>524</td>\n",
       "    </tr>\n",
       "    <tr>\n",
       "      <th>31</th>\n",
       "      <td>in_app_purchase</td>\n",
       "      <td>27</td>\n",
       "    </tr>\n",
       "    <tr>\n",
       "      <th>32</th>\n",
       "      <td>dynamic_link_app_open</td>\n",
       "      <td>19</td>\n",
       "    </tr>\n",
       "    <tr>\n",
       "      <th>33</th>\n",
       "      <td>app_clear_data</td>\n",
       "      <td>17</td>\n",
       "    </tr>\n",
       "    <tr>\n",
       "      <th>34</th>\n",
       "      <td>dynamic_link_first_open</td>\n",
       "      <td>16</td>\n",
       "    </tr>\n",
       "    <tr>\n",
       "      <th>35</th>\n",
       "      <td>challenge_accepted</td>\n",
       "      <td>5</td>\n",
       "    </tr>\n",
       "    <tr>\n",
       "      <th>36</th>\n",
       "      <td>notification_foreground</td>\n",
       "      <td>1</td>\n",
       "    </tr>\n",
       "  </tbody>\n",
       "</table>\n",
       "</div>"
      ],
      "text/plain": [
       "                  event_name  event_count\n",
       "0                screen_view      2247623\n",
       "1            user_engagement      1358958\n",
       "2      level_start_quickplay       523430\n",
       "3        level_end_quickplay       349729\n",
       "4                 post_score       242051\n",
       "5   level_complete_quickplay       191088\n",
       "6       level_fail_quickplay       137035\n",
       "7      level_reset_quickplay       122278\n",
       "8             select_content       105139\n",
       "9                level_start        74417\n",
       "10             session_start        74353\n",
       "11                 level_end        54582\n",
       "12               level_retry        43345\n",
       "13                  level_up        35666\n",
       "14            level_complete        33986\n",
       "15     level_retry_quickplay        29939\n",
       "16                level_fail        17353\n",
       "17    spend_virtual_currency         9363\n",
       "18           use_extra_steps         8945\n",
       "19               level_reset         8535\n",
       "20         firebase_campaign         5411\n",
       "21             app_exception         5156\n",
       "22                first_open         4322\n",
       "23                 os_update         3290\n",
       "24       no_more_extra_steps         2792\n",
       "25                app_remove         2639\n",
       "26                app_update         2473\n",
       "27                 ad_reward         1912\n",
       "28        completed_5_levels         1867\n",
       "29                     error         1714\n",
       "30        challenge_a_friend          524\n",
       "31           in_app_purchase           27\n",
       "32     dynamic_link_app_open           19\n",
       "33            app_clear_data           17\n",
       "34   dynamic_link_first_open           16\n",
       "35        challenge_accepted            5\n",
       "36   notification_foreground            1"
      ]
     },
     "execution_count": 10,
     "metadata": {},
     "output_type": "execute_result"
    }
   ],
   "source": [
    "%%bigquery --project $PROJECT_ID\n",
    "\n",
    "SELECT\n",
    "    event_name,\n",
    "    COUNT(event_name) as event_count\n",
    "FROM\n",
    "    `firebase-public-project.analytics_153293282.events_*`\n",
    "GROUP BY 1\n",
    "ORDER BY\n",
    "   event_count DESC"
   ]
  },
  {
   "cell_type": "markdown",
   "metadata": {
    "id": "smsCdPFpmJpT"
   },
   "source": [
    "このノートブックでは、下記のイベントの発生回数を集計します。\n",
    "\n",
    "* `user_engagement`\n",
    "* `level_start_quickplay`\n",
    "* `level_end_quickplay`\n",
    "* `level_complete_quickplay`\n",
    "* `level_reset_quickplay`\n",
    "* `post_score`\n",
    "* `spend_virtual_currency`\n",
    "* `ad_reward`\n",
    "* `challenge_a_friend`\n",
    "* `completed_5_levels`\n",
    "* `use_extra_steps`"
   ]
  },
  {
   "cell_type": "markdown",
   "metadata": {
    "id": "D9vIqhuj_qFW"
   },
   "source": [
    "SQL を使って、`event_names` ごとの回数をユーザごとに集計します。"
   ]
  },
  {
   "cell_type": "code",
   "execution_count": 11,
   "metadata": {
    "colab": {
     "base_uri": "https://localhost:8080/",
     "height": 363
    },
    "id": "nzbVtI6G_Y9p",
    "outputId": "8ae82387-01ff-4bbe-b629-659e4754ac81"
   },
   "outputs": [
    {
     "data": {
      "application/vnd.jupyter.widget-view+json": {
       "model_id": "51066a586b4748b2bf89bfda26630efe",
       "version_major": 2,
       "version_minor": 0
      },
      "text/plain": [
       "Query is running:   0%|          |"
      ]
     },
     "metadata": {},
     "output_type": "display_data"
    },
    {
     "data": {
      "application/vnd.jupyter.widget-view+json": {
       "model_id": "d5b99720832f4939bff25e417500f79b",
       "version_major": 2,
       "version_minor": 0
      },
      "text/plain": [
       "Downloading:   0%|          |"
      ]
     },
     "metadata": {},
     "output_type": "display_data"
    },
    {
     "data": {
      "text/html": [
       "<div>\n",
       "<style scoped>\n",
       "    .dataframe tbody tr th:only-of-type {\n",
       "        vertical-align: middle;\n",
       "    }\n",
       "\n",
       "    .dataframe tbody tr th {\n",
       "        vertical-align: top;\n",
       "    }\n",
       "\n",
       "    .dataframe thead th {\n",
       "        text-align: right;\n",
       "    }\n",
       "</style>\n",
       "<table border=\"1\" class=\"dataframe\">\n",
       "  <thead>\n",
       "    <tr style=\"text-align: right;\">\n",
       "      <th></th>\n",
       "      <th>user_pseudo_id</th>\n",
       "      <th>cnt_user_engagement</th>\n",
       "      <th>cnt_level_start_quickplay</th>\n",
       "      <th>cnt_level_end_quickplay</th>\n",
       "      <th>cnt_level_complete_quickplay</th>\n",
       "      <th>cnt_level_reset_quickplay</th>\n",
       "      <th>cnt_post_score</th>\n",
       "      <th>cnt_spend_virtual_currency</th>\n",
       "      <th>cnt_ad_reward</th>\n",
       "      <th>cnt_challenge_a_friend</th>\n",
       "      <th>cnt_completed_5_levels</th>\n",
       "      <th>cnt_use_extra_steps</th>\n",
       "    </tr>\n",
       "  </thead>\n",
       "  <tbody>\n",
       "    <tr>\n",
       "      <th>0</th>\n",
       "      <td>60406ADD3EE12783E9DF7A35EE8570BE</td>\n",
       "      <td>145</td>\n",
       "      <td>19</td>\n",
       "      <td>0</td>\n",
       "      <td>0</td>\n",
       "      <td>10</td>\n",
       "      <td>6</td>\n",
       "      <td>0</td>\n",
       "      <td>0</td>\n",
       "      <td>0</td>\n",
       "      <td>1</td>\n",
       "      <td>0</td>\n",
       "    </tr>\n",
       "    <tr>\n",
       "      <th>1</th>\n",
       "      <td>7693A1C0CF271A0BAA670DF090B70EAA</td>\n",
       "      <td>11</td>\n",
       "      <td>3</td>\n",
       "      <td>3</td>\n",
       "      <td>0</td>\n",
       "      <td>0</td>\n",
       "      <td>0</td>\n",
       "      <td>0</td>\n",
       "      <td>0</td>\n",
       "      <td>0</td>\n",
       "      <td>0</td>\n",
       "      <td>0</td>\n",
       "    </tr>\n",
       "    <tr>\n",
       "      <th>2</th>\n",
       "      <td>35A64944397A4AFFD30938D599AB8825</td>\n",
       "      <td>7</td>\n",
       "      <td>3</td>\n",
       "      <td>2</td>\n",
       "      <td>2</td>\n",
       "      <td>0</td>\n",
       "      <td>2</td>\n",
       "      <td>0</td>\n",
       "      <td>0</td>\n",
       "      <td>0</td>\n",
       "      <td>0</td>\n",
       "      <td>0</td>\n",
       "    </tr>\n",
       "    <tr>\n",
       "      <th>3</th>\n",
       "      <td>7C8A5B2853B828A5756F5BFAB556D6A5</td>\n",
       "      <td>24</td>\n",
       "      <td>0</td>\n",
       "      <td>0</td>\n",
       "      <td>0</td>\n",
       "      <td>0</td>\n",
       "      <td>10</td>\n",
       "      <td>0</td>\n",
       "      <td>0</td>\n",
       "      <td>0</td>\n",
       "      <td>0</td>\n",
       "      <td>0</td>\n",
       "    </tr>\n",
       "    <tr>\n",
       "      <th>4</th>\n",
       "      <td>BDE30A70A76C3C9BE423DC53C460239D</td>\n",
       "      <td>6</td>\n",
       "      <td>1</td>\n",
       "      <td>0</td>\n",
       "      <td>0</td>\n",
       "      <td>0</td>\n",
       "      <td>0</td>\n",
       "      <td>0</td>\n",
       "      <td>0</td>\n",
       "      <td>0</td>\n",
       "      <td>0</td>\n",
       "      <td>0</td>\n",
       "    </tr>\n",
       "    <tr>\n",
       "      <th>5</th>\n",
       "      <td>4DD9ECDFBC9BDF634A16A484F6094197</td>\n",
       "      <td>9</td>\n",
       "      <td>2</td>\n",
       "      <td>1</td>\n",
       "      <td>1</td>\n",
       "      <td>0</td>\n",
       "      <td>1</td>\n",
       "      <td>0</td>\n",
       "      <td>0</td>\n",
       "      <td>0</td>\n",
       "      <td>0</td>\n",
       "      <td>0</td>\n",
       "    </tr>\n",
       "    <tr>\n",
       "      <th>6</th>\n",
       "      <td>F7EB1BF1C86482C138D44D9CB5E4D191</td>\n",
       "      <td>11</td>\n",
       "      <td>3</td>\n",
       "      <td>0</td>\n",
       "      <td>0</td>\n",
       "      <td>2</td>\n",
       "      <td>0</td>\n",
       "      <td>0</td>\n",
       "      <td>0</td>\n",
       "      <td>0</td>\n",
       "      <td>0</td>\n",
       "      <td>0</td>\n",
       "    </tr>\n",
       "    <tr>\n",
       "      <th>7</th>\n",
       "      <td>944F8921A3DA4C3E6B913ED257E9FD4C</td>\n",
       "      <td>20</td>\n",
       "      <td>4</td>\n",
       "      <td>4</td>\n",
       "      <td>0</td>\n",
       "      <td>2</td>\n",
       "      <td>0</td>\n",
       "      <td>0</td>\n",
       "      <td>0</td>\n",
       "      <td>0</td>\n",
       "      <td>0</td>\n",
       "      <td>0</td>\n",
       "    </tr>\n",
       "    <tr>\n",
       "      <th>8</th>\n",
       "      <td>30B4EA8DC536B0DD556FCCAE4284BD1D</td>\n",
       "      <td>10</td>\n",
       "      <td>0</td>\n",
       "      <td>0</td>\n",
       "      <td>0</td>\n",
       "      <td>0</td>\n",
       "      <td>3</td>\n",
       "      <td>0</td>\n",
       "      <td>0</td>\n",
       "      <td>0</td>\n",
       "      <td>0</td>\n",
       "      <td>0</td>\n",
       "    </tr>\n",
       "    <tr>\n",
       "      <th>9</th>\n",
       "      <td>9E82B4A245E78807D6E2B2E6AB6B1AD9</td>\n",
       "      <td>27</td>\n",
       "      <td>7</td>\n",
       "      <td>5</td>\n",
       "      <td>4</td>\n",
       "      <td>0</td>\n",
       "      <td>5</td>\n",
       "      <td>0</td>\n",
       "      <td>0</td>\n",
       "      <td>0</td>\n",
       "      <td>0</td>\n",
       "      <td>0</td>\n",
       "    </tr>\n",
       "  </tbody>\n",
       "</table>\n",
       "</div>"
      ],
      "text/plain": [
       "                     user_pseudo_id  cnt_user_engagement  \\\n",
       "0  60406ADD3EE12783E9DF7A35EE8570BE                  145   \n",
       "1  7693A1C0CF271A0BAA670DF090B70EAA                   11   \n",
       "2  35A64944397A4AFFD30938D599AB8825                    7   \n",
       "3  7C8A5B2853B828A5756F5BFAB556D6A5                   24   \n",
       "4  BDE30A70A76C3C9BE423DC53C460239D                    6   \n",
       "5  4DD9ECDFBC9BDF634A16A484F6094197                    9   \n",
       "6  F7EB1BF1C86482C138D44D9CB5E4D191                   11   \n",
       "7  944F8921A3DA4C3E6B913ED257E9FD4C                   20   \n",
       "8  30B4EA8DC536B0DD556FCCAE4284BD1D                   10   \n",
       "9  9E82B4A245E78807D6E2B2E6AB6B1AD9                   27   \n",
       "\n",
       "   cnt_level_start_quickplay  cnt_level_end_quickplay  \\\n",
       "0                         19                        0   \n",
       "1                          3                        3   \n",
       "2                          3                        2   \n",
       "3                          0                        0   \n",
       "4                          1                        0   \n",
       "5                          2                        1   \n",
       "6                          3                        0   \n",
       "7                          4                        4   \n",
       "8                          0                        0   \n",
       "9                          7                        5   \n",
       "\n",
       "   cnt_level_complete_quickplay  cnt_level_reset_quickplay  cnt_post_score  \\\n",
       "0                             0                         10               6   \n",
       "1                             0                          0               0   \n",
       "2                             2                          0               2   \n",
       "3                             0                          0              10   \n",
       "4                             0                          0               0   \n",
       "5                             1                          0               1   \n",
       "6                             0                          2               0   \n",
       "7                             0                          2               0   \n",
       "8                             0                          0               3   \n",
       "9                             4                          0               5   \n",
       "\n",
       "   cnt_spend_virtual_currency  cnt_ad_reward  cnt_challenge_a_friend  \\\n",
       "0                           0              0                       0   \n",
       "1                           0              0                       0   \n",
       "2                           0              0                       0   \n",
       "3                           0              0                       0   \n",
       "4                           0              0                       0   \n",
       "5                           0              0                       0   \n",
       "6                           0              0                       0   \n",
       "7                           0              0                       0   \n",
       "8                           0              0                       0   \n",
       "9                           0              0                       0   \n",
       "\n",
       "   cnt_completed_5_levels  cnt_use_extra_steps  \n",
       "0                       1                    0  \n",
       "1                       0                    0  \n",
       "2                       0                    0  \n",
       "3                       0                    0  \n",
       "4                       0                    0  \n",
       "5                       0                    0  \n",
       "6                       0                    0  \n",
       "7                       0                    0  \n",
       "8                       0                    0  \n",
       "9                       0                    0  "
      ]
     },
     "execution_count": 11,
     "metadata": {},
     "output_type": "execute_result"
    }
   ],
   "source": [
    "%%bigquery --project $PROJECT_ID\n",
    "\n",
    "CREATE OR REPLACE VIEW bqmlga4.user_aggregate_behavior AS (\n",
    "WITH\n",
    "  events_first24hr AS (\n",
    "    #select user data only from first 24 hr of using the app\n",
    "    SELECT\n",
    "      e.*\n",
    "    FROM\n",
    "      `firebase-public-project.analytics_153293282.events_*` e\n",
    "    JOIN\n",
    "      bqmlga4.returningusers r\n",
    "    ON\n",
    "      e.user_pseudo_id = r.user_pseudo_id\n",
    "    WHERE\n",
    "      e.event_timestamp <= r.ts_24hr_after_first_engagement\n",
    "    )\n",
    "SELECT\n",
    "  user_pseudo_id,\n",
    "  SUM(IF(event_name = 'user_engagement', 1, 0)) AS cnt_user_engagement,\n",
    "  SUM(IF(event_name = 'level_start_quickplay', 1, 0)) AS cnt_level_start_quickplay,\n",
    "  SUM(IF(event_name = 'level_end_quickplay', 1, 0)) AS cnt_level_end_quickplay,\n",
    "  SUM(IF(event_name = 'level_complete_quickplay', 1, 0)) AS cnt_level_complete_quickplay,\n",
    "  SUM(IF(event_name = 'level_reset_quickplay', 1, 0)) AS cnt_level_reset_quickplay,\n",
    "  SUM(IF(event_name = 'post_score', 1, 0)) AS cnt_post_score,\n",
    "  SUM(IF(event_name = 'spend_virtual_currency', 1, 0)) AS cnt_spend_virtual_currency,\n",
    "  SUM(IF(event_name = 'ad_reward', 1, 0)) AS cnt_ad_reward,\n",
    "  SUM(IF(event_name = 'challenge_a_friend', 1, 0)) AS cnt_challenge_a_friend,\n",
    "  SUM(IF(event_name = 'completed_5_levels', 1, 0)) AS cnt_completed_5_levels,\n",
    "  SUM(IF(event_name = 'use_extra_steps', 1, 0)) AS cnt_use_extra_steps,\n",
    "FROM\n",
    "  events_first24hr\n",
    "GROUP BY\n",
    "  1\n",
    "  );\n",
    "\n",
    "SELECT\n",
    "  *\n",
    "FROM\n",
    "  bqmlga4.user_aggregate_behavior\n",
    "LIMIT 10"
   ]
  },
  {
   "cell_type": "markdown",
   "metadata": {
    "id": "EO1zcaiK_I4S"
   },
   "source": [
    "操作の頻度に加えて、その他の特徴量を加えることもできます。例えば、アプリ内通貨の利用量、アプリ特有のマイルストーン（特定の経験値を達成、レベルアップ回数など）があります。"
   ]
  },
  {
   "cell_type": "markdown",
   "metadata": {
    "id": "PrWx_WQQBitA"
   },
   "source": [
    "#### ステップ 4: ラベルと属性、行動データの結合"
   ]
  },
  {
   "cell_type": "markdown",
   "metadata": {
    "id": "o54qf5U6ik2l"
   },
   "source": [
    "ステップ1から3までに作成した中間ビューを結合し、訓練用データを作成します。\n",
    "`bounced = 0` を指定して、直帰したユーザを外している点に注目してください。"
   ]
  },
  {
   "cell_type": "code",
   "execution_count": 12,
   "metadata": {
    "colab": {
     "base_uri": "https://localhost:8080/",
     "height": 531
    },
    "id": "2i4WeTqLB1mC",
    "outputId": "c6669996-83c4-4fb5-fcde-c3135ffd7705"
   },
   "outputs": [
    {
     "data": {
      "application/vnd.jupyter.widget-view+json": {
       "model_id": "a271b2aa4f7247f3adcbced27b0b856f",
       "version_major": 2,
       "version_minor": 0
      },
      "text/plain": [
       "Query is running:   0%|          |"
      ]
     },
     "metadata": {},
     "output_type": "display_data"
    },
    {
     "data": {
      "application/vnd.jupyter.widget-view+json": {
       "model_id": "e63ec2496fa34c31b9c6b7326b824052",
       "version_major": 2,
       "version_minor": 0
      },
      "text/plain": [
       "Downloading:   0%|          |"
      ]
     },
     "metadata": {},
     "output_type": "display_data"
    },
    {
     "data": {
      "text/html": [
       "<div>\n",
       "<style scoped>\n",
       "    .dataframe tbody tr th:only-of-type {\n",
       "        vertical-align: middle;\n",
       "    }\n",
       "\n",
       "    .dataframe tbody tr th {\n",
       "        vertical-align: top;\n",
       "    }\n",
       "\n",
       "    .dataframe thead th {\n",
       "        text-align: right;\n",
       "    }\n",
       "</style>\n",
       "<table border=\"1\" class=\"dataframe\">\n",
       "  <thead>\n",
       "    <tr style=\"text-align: right;\">\n",
       "      <th></th>\n",
       "      <th>user_pseudo_id</th>\n",
       "      <th>country</th>\n",
       "      <th>operating_system</th>\n",
       "      <th>language</th>\n",
       "      <th>cnt_user_engagement</th>\n",
       "      <th>cnt_level_start_quickplay</th>\n",
       "      <th>cnt_level_end_quickplay</th>\n",
       "      <th>cnt_level_complete_quickplay</th>\n",
       "      <th>cnt_level_reset_quickplay</th>\n",
       "      <th>cnt_post_score</th>\n",
       "      <th>cnt_spend_virtual_currency</th>\n",
       "      <th>cnt_ad_reward</th>\n",
       "      <th>cnt_challenge_a_friend</th>\n",
       "      <th>cnt_completed_5_levels</th>\n",
       "      <th>cnt_use_extra_steps</th>\n",
       "      <th>user_first_engagement</th>\n",
       "      <th>month</th>\n",
       "      <th>julianday</th>\n",
       "      <th>dayofweek</th>\n",
       "      <th>churned</th>\n",
       "    </tr>\n",
       "  </thead>\n",
       "  <tbody>\n",
       "    <tr>\n",
       "      <th>0</th>\n",
       "      <td>3D339878AE3B0017A1B3313EB2C5A90A</td>\n",
       "      <td>United States</td>\n",
       "      <td>None</td>\n",
       "      <td>en-us</td>\n",
       "      <td>113</td>\n",
       "      <td>0</td>\n",
       "      <td>0</td>\n",
       "      <td>0</td>\n",
       "      <td>0</td>\n",
       "      <td>33</td>\n",
       "      <td>0</td>\n",
       "      <td>0</td>\n",
       "      <td>0</td>\n",
       "      <td>0</td>\n",
       "      <td>0</td>\n",
       "      <td>1528818242527003</td>\n",
       "      <td>6</td>\n",
       "      <td>163</td>\n",
       "      <td>3</td>\n",
       "      <td>0</td>\n",
       "    </tr>\n",
       "    <tr>\n",
       "      <th>1</th>\n",
       "      <td>96710B78A294951BF7CDEA5BBEE15766</td>\n",
       "      <td>United States</td>\n",
       "      <td>ANDROID</td>\n",
       "      <td>en-us</td>\n",
       "      <td>14</td>\n",
       "      <td>5</td>\n",
       "      <td>4</td>\n",
       "      <td>4</td>\n",
       "      <td>0</td>\n",
       "      <td>4</td>\n",
       "      <td>0</td>\n",
       "      <td>0</td>\n",
       "      <td>0</td>\n",
       "      <td>0</td>\n",
       "      <td>0</td>\n",
       "      <td>1529263023190003</td>\n",
       "      <td>6</td>\n",
       "      <td>168</td>\n",
       "      <td>1</td>\n",
       "      <td>0</td>\n",
       "    </tr>\n",
       "    <tr>\n",
       "      <th>2</th>\n",
       "      <td>073C36044E686CF5D6DEE864559D453F</td>\n",
       "      <td>United States</td>\n",
       "      <td>None</td>\n",
       "      <td>en-us</td>\n",
       "      <td>95</td>\n",
       "      <td>11</td>\n",
       "      <td>8</td>\n",
       "      <td>0</td>\n",
       "      <td>1</td>\n",
       "      <td>8</td>\n",
       "      <td>0</td>\n",
       "      <td>0</td>\n",
       "      <td>0</td>\n",
       "      <td>0</td>\n",
       "      <td>0</td>\n",
       "      <td>1528827608637001</td>\n",
       "      <td>6</td>\n",
       "      <td>163</td>\n",
       "      <td>3</td>\n",
       "      <td>0</td>\n",
       "    </tr>\n",
       "    <tr>\n",
       "      <th>3</th>\n",
       "      <td>0C288F38B32B94A75DFE3DF7C3091B63</td>\n",
       "      <td>United States</td>\n",
       "      <td>IOS</td>\n",
       "      <td>en-us</td>\n",
       "      <td>28</td>\n",
       "      <td>10</td>\n",
       "      <td>8</td>\n",
       "      <td>7</td>\n",
       "      <td>0</td>\n",
       "      <td>7</td>\n",
       "      <td>0</td>\n",
       "      <td>0</td>\n",
       "      <td>0</td>\n",
       "      <td>0</td>\n",
       "      <td>0</td>\n",
       "      <td>1528863143354030</td>\n",
       "      <td>6</td>\n",
       "      <td>164</td>\n",
       "      <td>4</td>\n",
       "      <td>0</td>\n",
       "    </tr>\n",
       "    <tr>\n",
       "      <th>4</th>\n",
       "      <td>018F03084C88E944163F76A0D0C2FBA1</td>\n",
       "      <td>Spain</td>\n",
       "      <td>ANDROID</td>\n",
       "      <td>de-de</td>\n",
       "      <td>129</td>\n",
       "      <td>64</td>\n",
       "      <td>26</td>\n",
       "      <td>20</td>\n",
       "      <td>0</td>\n",
       "      <td>20</td>\n",
       "      <td>0</td>\n",
       "      <td>0</td>\n",
       "      <td>0</td>\n",
       "      <td>0</td>\n",
       "      <td>0</td>\n",
       "      <td>1528792554849011</td>\n",
       "      <td>6</td>\n",
       "      <td>163</td>\n",
       "      <td>3</td>\n",
       "      <td>0</td>\n",
       "    </tr>\n",
       "    <tr>\n",
       "      <th>5</th>\n",
       "      <td>31F8F98A5B838C7375267F10DADBDA24</td>\n",
       "      <td>Saudi Arabia</td>\n",
       "      <td>IOS</td>\n",
       "      <td>en-us</td>\n",
       "      <td>16</td>\n",
       "      <td>9</td>\n",
       "      <td>3</td>\n",
       "      <td>3</td>\n",
       "      <td>4</td>\n",
       "      <td>3</td>\n",
       "      <td>0</td>\n",
       "      <td>0</td>\n",
       "      <td>0</td>\n",
       "      <td>0</td>\n",
       "      <td>0</td>\n",
       "      <td>1529001732755013</td>\n",
       "      <td>6</td>\n",
       "      <td>165</td>\n",
       "      <td>5</td>\n",
       "      <td>0</td>\n",
       "    </tr>\n",
       "    <tr>\n",
       "      <th>6</th>\n",
       "      <td>7410C5CC4FA11D31DB5F9B1D8ECD6BD0</td>\n",
       "      <td>Austria</td>\n",
       "      <td>IOS</td>\n",
       "      <td>de-at</td>\n",
       "      <td>11</td>\n",
       "      <td>3</td>\n",
       "      <td>3</td>\n",
       "      <td>2</td>\n",
       "      <td>0</td>\n",
       "      <td>2</td>\n",
       "      <td>0</td>\n",
       "      <td>0</td>\n",
       "      <td>0</td>\n",
       "      <td>0</td>\n",
       "      <td>0</td>\n",
       "      <td>1528906618678010</td>\n",
       "      <td>6</td>\n",
       "      <td>164</td>\n",
       "      <td>4</td>\n",
       "      <td>0</td>\n",
       "    </tr>\n",
       "    <tr>\n",
       "      <th>7</th>\n",
       "      <td>5E7FD2E063D2347A72EC52EA919B2550</td>\n",
       "      <td>United States</td>\n",
       "      <td>None</td>\n",
       "      <td>en-us</td>\n",
       "      <td>31</td>\n",
       "      <td>4</td>\n",
       "      <td>3</td>\n",
       "      <td>2</td>\n",
       "      <td>0</td>\n",
       "      <td>2</td>\n",
       "      <td>0</td>\n",
       "      <td>0</td>\n",
       "      <td>0</td>\n",
       "      <td>0</td>\n",
       "      <td>0</td>\n",
       "      <td>1529016280387010</td>\n",
       "      <td>6</td>\n",
       "      <td>165</td>\n",
       "      <td>5</td>\n",
       "      <td>0</td>\n",
       "    </tr>\n",
       "    <tr>\n",
       "      <th>8</th>\n",
       "      <td>177581DC2CAB8BCC6A840B7F47A2FEA6</td>\n",
       "      <td>Mexico</td>\n",
       "      <td>IOS</td>\n",
       "      <td>es-us</td>\n",
       "      <td>6</td>\n",
       "      <td>2</td>\n",
       "      <td>1</td>\n",
       "      <td>0</td>\n",
       "      <td>0</td>\n",
       "      <td>0</td>\n",
       "      <td>0</td>\n",
       "      <td>0</td>\n",
       "      <td>0</td>\n",
       "      <td>0</td>\n",
       "      <td>0</td>\n",
       "      <td>1529286457148011</td>\n",
       "      <td>6</td>\n",
       "      <td>169</td>\n",
       "      <td>2</td>\n",
       "      <td>0</td>\n",
       "    </tr>\n",
       "    <tr>\n",
       "      <th>9</th>\n",
       "      <td>706FFCFBAA254E9734D74D6493D4CD2D</td>\n",
       "      <td>United States</td>\n",
       "      <td>IOS</td>\n",
       "      <td>en-us</td>\n",
       "      <td>48</td>\n",
       "      <td>5</td>\n",
       "      <td>2</td>\n",
       "      <td>0</td>\n",
       "      <td>0</td>\n",
       "      <td>7</td>\n",
       "      <td>3</td>\n",
       "      <td>0</td>\n",
       "      <td>0</td>\n",
       "      <td>0</td>\n",
       "      <td>0</td>\n",
       "      <td>1529137081803001</td>\n",
       "      <td>6</td>\n",
       "      <td>167</td>\n",
       "      <td>7</td>\n",
       "      <td>0</td>\n",
       "    </tr>\n",
       "  </tbody>\n",
       "</table>\n",
       "</div>"
      ],
      "text/plain": [
       "                     user_pseudo_id        country operating_system language  \\\n",
       "0  3D339878AE3B0017A1B3313EB2C5A90A  United States             None    en-us   \n",
       "1  96710B78A294951BF7CDEA5BBEE15766  United States          ANDROID    en-us   \n",
       "2  073C36044E686CF5D6DEE864559D453F  United States             None    en-us   \n",
       "3  0C288F38B32B94A75DFE3DF7C3091B63  United States              IOS    en-us   \n",
       "4  018F03084C88E944163F76A0D0C2FBA1          Spain          ANDROID    de-de   \n",
       "5  31F8F98A5B838C7375267F10DADBDA24   Saudi Arabia              IOS    en-us   \n",
       "6  7410C5CC4FA11D31DB5F9B1D8ECD6BD0        Austria              IOS    de-at   \n",
       "7  5E7FD2E063D2347A72EC52EA919B2550  United States             None    en-us   \n",
       "8  177581DC2CAB8BCC6A840B7F47A2FEA6         Mexico              IOS    es-us   \n",
       "9  706FFCFBAA254E9734D74D6493D4CD2D  United States              IOS    en-us   \n",
       "\n",
       "   cnt_user_engagement  cnt_level_start_quickplay  cnt_level_end_quickplay  \\\n",
       "0                  113                          0                        0   \n",
       "1                   14                          5                        4   \n",
       "2                   95                         11                        8   \n",
       "3                   28                         10                        8   \n",
       "4                  129                         64                       26   \n",
       "5                   16                          9                        3   \n",
       "6                   11                          3                        3   \n",
       "7                   31                          4                        3   \n",
       "8                    6                          2                        1   \n",
       "9                   48                          5                        2   \n",
       "\n",
       "   cnt_level_complete_quickplay  cnt_level_reset_quickplay  cnt_post_score  \\\n",
       "0                             0                          0              33   \n",
       "1                             4                          0               4   \n",
       "2                             0                          1               8   \n",
       "3                             7                          0               7   \n",
       "4                            20                          0              20   \n",
       "5                             3                          4               3   \n",
       "6                             2                          0               2   \n",
       "7                             2                          0               2   \n",
       "8                             0                          0               0   \n",
       "9                             0                          0               7   \n",
       "\n",
       "   cnt_spend_virtual_currency  cnt_ad_reward  cnt_challenge_a_friend  \\\n",
       "0                           0              0                       0   \n",
       "1                           0              0                       0   \n",
       "2                           0              0                       0   \n",
       "3                           0              0                       0   \n",
       "4                           0              0                       0   \n",
       "5                           0              0                       0   \n",
       "6                           0              0                       0   \n",
       "7                           0              0                       0   \n",
       "8                           0              0                       0   \n",
       "9                           3              0                       0   \n",
       "\n",
       "   cnt_completed_5_levels  cnt_use_extra_steps  user_first_engagement  month  \\\n",
       "0                       0                    0       1528818242527003      6   \n",
       "1                       0                    0       1529263023190003      6   \n",
       "2                       0                    0       1528827608637001      6   \n",
       "3                       0                    0       1528863143354030      6   \n",
       "4                       0                    0       1528792554849011      6   \n",
       "5                       0                    0       1529001732755013      6   \n",
       "6                       0                    0       1528906618678010      6   \n",
       "7                       0                    0       1529016280387010      6   \n",
       "8                       0                    0       1529286457148011      6   \n",
       "9                       0                    0       1529137081803001      6   \n",
       "\n",
       "   julianday  dayofweek  churned  \n",
       "0        163          3        0  \n",
       "1        168          1        0  \n",
       "2        163          3        0  \n",
       "3        164          4        0  \n",
       "4        163          3        0  \n",
       "5        165          5        0  \n",
       "6        164          4        0  \n",
       "7        165          5        0  \n",
       "8        169          2        0  \n",
       "9        167          7        0  "
      ]
     },
     "execution_count": 12,
     "metadata": {},
     "output_type": "execute_result"
    }
   ],
   "source": [
    "%%bigquery --project $PROJECT_ID\n",
    "\n",
    "CREATE OR REPLACE VIEW bqmlga4.train AS (\n",
    "    \n",
    "  SELECT\n",
    "    dem.*,\n",
    "    IFNULL(beh.cnt_user_engagement, 0) AS cnt_user_engagement,\n",
    "    IFNULL(beh.cnt_level_start_quickplay, 0) AS cnt_level_start_quickplay,\n",
    "    IFNULL(beh.cnt_level_end_quickplay, 0) AS cnt_level_end_quickplay,\n",
    "    IFNULL(beh.cnt_level_complete_quickplay, 0) AS cnt_level_complete_quickplay,\n",
    "    IFNULL(beh.cnt_level_reset_quickplay, 0) AS cnt_level_reset_quickplay,\n",
    "    IFNULL(beh.cnt_post_score, 0) AS cnt_post_score,\n",
    "    IFNULL(beh.cnt_spend_virtual_currency, 0) AS cnt_spend_virtual_currency,\n",
    "    IFNULL(beh.cnt_ad_reward, 0) AS cnt_ad_reward,\n",
    "    IFNULL(beh.cnt_challenge_a_friend, 0) AS cnt_challenge_a_friend,\n",
    "    IFNULL(beh.cnt_completed_5_levels, 0) AS cnt_completed_5_levels,\n",
    "    IFNULL(beh.cnt_use_extra_steps, 0) AS cnt_use_extra_steps,\n",
    "    ret.user_first_engagement,\n",
    "    ret.month,\n",
    "    ret.julianday,\n",
    "    ret.dayofweek,\n",
    "    ret.churned\n",
    "  FROM\n",
    "    bqmlga4.returningusers ret\n",
    "  LEFT OUTER JOIN\n",
    "    bqmlga4.user_demographics dem\n",
    "  ON \n",
    "    ret.user_pseudo_id = dem.user_pseudo_id\n",
    "  LEFT OUTER JOIN \n",
    "    bqmlga4.user_aggregate_behavior beh\n",
    "  ON\n",
    "    ret.user_pseudo_id = beh.user_pseudo_id\n",
    "  WHERE ret.bounced = 0\n",
    "  );\n",
    "\n",
    "SELECT\n",
    "  *\n",
    "FROM\n",
    "  bqmlga4.train\n",
    "LIMIT 10"
   ]
  },
  {
   "cell_type": "markdown",
   "metadata": {
    "id": "Co90TkTsCk9p"
   },
   "source": [
    "## BigQuery ML を使ったモデルの訓練"
   ]
  },
  {
   "cell_type": "markdown",
   "metadata": {
    "id": "stwX9Np9CyWG"
   },
   "source": [
    "このセクションでは、これまでに準備したデータを BigQuery ML に投入して機械学習モデルを訓練します。"
   ]
  },
  {
   "cell_type": "markdown",
   "metadata": {
    "id": "FQTRryQ9Fr_l"
   },
   "source": [
    "**アルゴリズムの選択**\n",
    "\n",
    "今回の問題は2値分類なので、一番単純な[線形回帰](https://cloud.google.com/bigquery-ml/docs/reference/standard-sql/bigqueryml-syntax-create)から始めます。他にも、[XGBoost](https://cloud.google.com/bigquery-ml/docs/reference/standard-sql/bigqueryml-syntax-create-boosted-tree), [deep neural networks](https://cloud.google.com/bigquery-ml/docs/reference/standard-sql/bigqueryml-syntax-create-dnn-models), [AutoML Tables](https://cloud.google.com/bigquery-ml/docs/reference/standard-sql/bigqueryml-syntax-create-automl) により訓練することも可能です。それぞれのモデルは 0 から 1.0 までのスコアを出力します。\n",
    "\n",
    "|モデル| model_type| 利点 | 欠点|\n",
    "|-|-|-|-|\n",
    "|**線形回帰**| `LOGISTIC_REG` ([ドキュメント](https://cloud.google.com/bigquery-ml/docs/reference/standard-sql/bigqueryml-syntax-create))| 他と比べ訓練が速い | 精度はそれほど高くない |\n",
    "|**XGBoost**| `BOOSTED_TREE_CLASSIFIER` ([ドキュメント](https://cloud.google.com/bigquery-ml/docs/reference/standard-sql/bigqueryml-syntax-create-boosted-tree))| モデルの性能が高い、特徴量の寄与度を調べることができる | `LOGISTIC_REG` と比べ訓練が遅い|\n",
    "|**Deep Neural Networks**| `DNN_CLASSIFIER` ([ドキュメント](https://cloud.google.com/bigquery-ml/docs/reference/standard-sql/bigqueryml-syntax-create-dnn-models))| モデルの性能が良い |  `LOGISTIC_REG` と比べ訓練が遅い|\n",
    "|**AutoML Tables**| `AUTOML_CLASSIFIER` ([ドキュメント](https://cloud.google.com/bigquery-ml/docs/reference/standard-sql/bigqueryml-syntax-create-automl))| 非常に性能が良い | 訓練に数時間かかる、モデルの説明性が低い |\n"
   ]
  },
  {
   "cell_type": "markdown",
   "metadata": {
    "id": "W326AA24FyPF"
   },
   "source": [
    "**データを訓練用、テスト用に分割する必要はありません**\n",
    "- `CREATE MODEL` 文を実行すると、 BigQuery ML は自動的にデータを訓練用とテスト用に分割します。従って訓練が終わったときにすぐモデルの評価を行うことが可能です (データの分割を手動で行う方法は[ドキュメント](https://cloud.google.com/bigquery-ml/docs/reference/standard-sql/bigqueryml-syntax-create#data_split_method) を参照)。\n"
   ]
  },
  {
   "cell_type": "markdown",
   "metadata": {
    "id": "zfNMGKb_GAPM"
   },
   "source": [
    "**ハイパーパラメータチューニング（余力がある人向け）**\n",
    "機械学習では、ハイパーパラメータと呼ばれる係数をチューニングすることで性能を引き出すことが可能です。\n",
    "アルゴリズムごとに設定可能なパラメータは異なるので、\n",
    "[CREATE MODEL のドキュメント](https://cloud.google.com/bigquery-ml/docs/reference/standard-sql/bigqueryml-syntax-create)を確認してください。"
   ]
  },
  {
   "cell_type": "markdown",
   "metadata": {
    "id": "cu-xHARS90xN"
   },
   "source": [
    "#### 線形回帰モデルの訓練"
   ]
  },
  {
   "cell_type": "markdown",
   "metadata": {
    "id": "5A_PGKG5Ob8u"
   },
   "source": [
    "下記の SQL を使うと線形回帰モデルの訓練が行えます。1，2分で訓練は終わるはずです。"
   ]
  },
  {
   "cell_type": "code",
   "execution_count": null,
   "metadata": {
    "colab": {
     "base_uri": "https://localhost:8080/",
     "height": 31
    },
    "id": "1WRGHLIIC-RL",
    "outputId": "32339cf6-5548-4239-e211-002d1c5743a7"
   },
   "outputs": [
    {
     "name": "stdout",
     "output_type": "stream",
     "text": [
      "Executing query with job ID: 31cadbb3-8f0d-403f-8397-4b7a57be1d3a\n",
      "Query executing: 42.08s"
     ]
    }
   ],
   "source": [
    "%%bigquery --project $PROJECT_ID\n",
    "\n",
    "CREATE OR REPLACE MODEL bqmlga4.churn_logreg\n",
    "\n",
    "OPTIONS(\n",
    "  ENABLE_GLOBAL_EXPLAIN=TRUE,\n",
    "  MODEL_TYPE=\"LOGISTIC_REG\",\n",
    "  INPUT_LABEL_COLS=[\"churned\"]\n",
    ") AS\n",
    "\n",
    "SELECT\n",
    "  *\n",
    "FROM\n",
    "  bqmlga4.train"
   ]
  },
  {
   "cell_type": "markdown",
   "metadata": {
    "id": "ZBX-46-Q94tI"
   },
   "source": [
    "#### XGBoost モデル (時間があれば)"
   ]
  },
  {
   "cell_type": "markdown",
   "metadata": {
    "id": "uqewIJBoOnAZ"
   },
   "source": [
    "（訳注：XGBoost、DNN、AutoML の訓練は時間がかかるため、BigQuery のクエリ画面へノートブックのSQLをコピーし実行するようにしてください）\n",
    "\n",
    "XGBoost モデルの訓練は数分かかります。\n",
    "\n",
    "デフォルトのハイパーパラメータはドキュメントを参照してください。\n",
    "[CREATE MODEL statement for Boosted Tree models using XGBoost](https://cloud.google.com/bigquery-ml/docs/reference/standard-sql/bigqueryml-syntax-create-boosted-tree)"
   ]
  },
  {
   "cell_type": "code",
   "execution_count": null,
   "metadata": {
    "id": "3XNDx5YoEFmY"
   },
   "outputs": [],
   "source": [
    "%%bigquery --project $PROJECT_ID\n",
    "\n",
    "CREATE OR REPLACE MODEL bqmlga4.churn_xgb\n",
    "\n",
    "OPTIONS(\n",
    "  ENABLE_GLOBAL_EXPLAIN=TRUE,\n",
    "  MODEL_TYPE=\"BOOSTED_TREE_CLASSIFIER\",\n",
    "  INPUT_LABEL_COLS=[\"churned\"]\n",
    ") AS\n",
    "\n",
    "SELECT\n",
    "  * EXCEPT(user_pseudo_id)\n",
    "FROM\n",
    "  bqmlga4.train"
   ]
  },
  {
   "cell_type": "markdown",
   "metadata": {
    "id": "0tSEDUcl98eE"
   },
   "source": [
    "#### deep neural network (DNN) モデル  (時間があれば)"
   ]
  },
  {
   "cell_type": "markdown",
   "metadata": {
    "id": "FPpfxT6ZOslN"
   },
   "source": [
    "DNNの訓練も数分かかります。\n",
    "\n",
    "デフォルトのハイパーパラメータはドキュメントを参照してください。\n",
    "[CREATE MODEL statement for Deep Neural Network (DNN) models](https://cloud.google.com/bigquery-ml/docs/reference/standard-sql/bigqueryml-syntax-create-dnn-models)"
   ]
  },
  {
   "cell_type": "code",
   "execution_count": null,
   "metadata": {
    "id": "1o99jDldEGbT"
   },
   "outputs": [],
   "source": [
    "%%bigquery --project $PROJECT_ID\n",
    "\n",
    "CREATE OR REPLACE MODEL bqmlga4.churn_dnn\n",
    "\n",
    "OPTIONS(\n",
    "  ENABLE_GLOBAL_EXPLAIN=TRUE,\n",
    "  MODEL_TYPE=\"DNN_CLASSIFIER\",\n",
    "  INPUT_LABEL_COLS=[\"churned\"]\n",
    ") AS\n",
    "\n",
    "SELECT\n",
    "  * EXCEPT(user_pseudo_id)\n",
    "FROM\n",
    "  bqmlga4.train"
   ]
  },
  {
   "cell_type": "markdown",
   "metadata": {
    "id": "X-DJU4-IkTsP"
   },
   "source": [
    "### AutoML Tables モデル (参考)\n",
    "\n",
    "[AutoML Tables](https://cloud.google.com/automl-tables) は自動的に高性能なモデルを作成する機能です。\n",
    "AutoML Tables は線形回帰のような単純なモデルから、より高度なアンサンブルなどの手法を用いた複雑、大規模なモデルまで、あらゆる構造のモデルを検証します。\n",
    "\n",
    "`BUDGET_HOURS` パラメータのデフォルトは 1.0 時間で、最大 72.0 です。実際の処理時間はパラメータに設定した時間より長くなることもあります。\n",
    "\n",
    "**注:** 訓練には最低でも1時間はかかるので、今回のイベントの時間枠では収まらない可能性が高いです\n"
   ]
  },
  {
   "cell_type": "code",
   "execution_count": null,
   "metadata": {
    "id": "-tcfIVLZEHXU"
   },
   "outputs": [],
   "source": [
    "# %%bigquery --project $PROJECT_ID\n",
    "\n",
    "# CREATE OR REPLACE MODEL bqmlga4.churn_automl\n",
    "\n",
    "# OPTIONS(\n",
    "#   MODEL_TYPE=\"AUTOML_CLASSIFIER\",\n",
    "#   INPUT_LABEL_COLS=[\"churned\"],\n",
    "#   BUDGET_HOURS=1.0\n",
    "# ) AS\n",
    "\n",
    "# SELECT\n",
    "#   * EXCEPT(user_pseudo_id)\n",
    "# FROM\n",
    "#   bqmlga4.train"
   ]
  },
  {
   "cell_type": "markdown",
   "metadata": {
    "id": "s_t0zxoeE1d7"
   },
   "source": [
    "## モデルの評価"
   ]
  },
  {
   "cell_type": "markdown",
   "metadata": {
    "id": "b69YK1iX_ksq"
   },
   "source": [
    "モデルを評価するには、訓練したモデルに対して [`ML.EVALUATE`](https://cloud.google.com/bigquery-ml/docs/reference/standard-sql/bigqueryml-syntax-evaluate) を実行し、メトリクスを得ます。\n",
    "\n",
    "メトリクスは自動的に分割されたテストデータにより算出されます ([データ分割の詳細](https://cloud.google.com/bigquery-ml/docs/reference/standard-sql/bigqueryml-syntax-create#data_split_method))。\n",
    "\n",
    "（訳注：SQL を使ってノートブック上で評価することもできますが、同じ内容はクラウドコンソールでも表示できます。特に、閾値を変えるのはクラウドコンソールの GUI で操作する方が直感的な操作ができます）"
   ]
  },
  {
   "cell_type": "code",
   "execution_count": null,
   "metadata": {
    "colab": {
     "base_uri": "https://localhost:8080/",
     "height": 77
    },
    "id": "p16-00xjE3JQ",
    "outputId": "cd9db9bf-2211-4152-e84e-5c299354663d"
   },
   "outputs": [],
   "source": [
    "%%bigquery --project $PROJECT_ID\n",
    "\n",
    "SELECT\n",
    "  *\n",
    "FROM\n",
    "  ML.EVALUATE(MODEL bqmlga4.churn_logreg)"
   ]
  },
  {
   "cell_type": "markdown",
   "metadata": {
    "id": "ejdRfRYeATL-"
   },
   "source": [
    "`ML.EVALUATE` は `precision`, `recall`, `accuracy`, `f1_score` をデフォルトの閾値 0.5 により算出します。[`THRESHOLD`](https://cloud.google.com/bigquery-ml/docs/reference/standard-sql/bigqueryml-syntax-evaluate#eval_threshold) パラメータを与えることで閾値は変更可能です。\n",
    "\n",
    "一般にモデルの性能を比較するには `log_loss` と `roc_auc` が利用されます。\n",
    "\n",
    "`log_loss` は 0 から 1.0 の間の値を取ります。`log_loss` が0に近ければ、予測されたラベルは実際のラベルに近いことを示します。\n",
    "`roc_auc` も 0 と 1.0 の間の値を取ります。`roc_auc` が 1.0 に近ければ、モデルは高い識別性能を持つことがわかります。\n",
    "\n",
    "これらのメトリクスの詳しい定義は [precision and recall](https://developers.google.com/machine-learning/crash-course/classification/precision-and-recall), [accuracy](https://developers.google.com/machine-learning/crash-course/classification/accuracy), [f1-score](https://en.wikipedia.org/wiki/F-score), [log_loss](https://en.wikipedia.org/wiki/Loss_functions_for_classification#Logistic_loss) and [roc_auc](https://developers.google.com/machine-learning/crash-course/classification/roc-and-auc) を参照してください。"
   ]
  },
  {
   "cell_type": "markdown",
   "metadata": {
    "id": "glkKlvoqP7Uf"
   },
   "source": [
    "#### 混同行列: 予測と実際の値を比較"
   ]
  },
  {
   "cell_type": "markdown",
   "metadata": {
    "id": "AYB1xZ9oQDOv"
   },
   "source": [
    "モデルを評価するメトリクスに加え、混同行列を用いて予測された値と実際の値の関係を調べます。\n",
    "\n",
    "行は実際の値、列は予測された値を表します。2値の分類で ML.CONFUSION_MATRIX を実行した結果は下記のような形式になります。\n",
    "\n",
    "| | Predicted_0 | Predicted_1|\n",
    "|-|-|-|\n",
    "|Actual_0| True Negatives | False Positives|\n",
    "|Actual_1| False Negatives | True Positives|\n",
    "\n",
    "[混同行列の詳細はこちら](https://developers.google.com/machine-learning/crash-course/classification/true-false-positive-negative)。"
   ]
  },
  {
   "cell_type": "code",
   "execution_count": null,
   "metadata": {
    "colab": {
     "base_uri": "https://localhost:8080/",
     "height": 106
    },
    "id": "Db5M8U8QQgyi",
    "outputId": "2ea7e3c1-e411-43aa-e32c-6a29a2175c14"
   },
   "outputs": [],
   "source": [
    "%%bigquery --project $PROJECT_ID\n",
    "\n",
    "SELECT\n",
    "  expected_label,\n",
    "  _0 AS predicted_0,\n",
    "  _1 AS predicted_1\n",
    "FROM\n",
    "  ML.CONFUSION_MATRIX(MODEL bqmlga4.churn_logreg)"
   ]
  },
  {
   "cell_type": "markdown",
   "metadata": {
    "id": "Ix5q8Onw1aYs"
   },
   "source": [
    "#### ROC カーブ"
   ]
  },
  {
   "cell_type": "markdown",
   "metadata": {
    "id": "XleHv73dIZx-"
   },
   "source": [
    "AUC-ROC カーブは `ML.ROC_CURVE` を用いて描くことができます([ドキュメント](https://cloud.google.com/bigquery-ml/docs/reference/standard-sql/bigqueryml-syntax-roc))."
   ]
  },
  {
   "cell_type": "code",
   "execution_count": null,
   "metadata": {
    "id": "p_iG9vOfbgX6"
   },
   "outputs": [],
   "source": [
    "%%bigquery df_roc --project $PROJECT_ID\n",
    "SELECT * FROM ML.ROC_CURVE(MODEL bqmlga4.churn_logreg)"
   ]
  },
  {
   "cell_type": "code",
   "execution_count": null,
   "metadata": {
    "colab": {
     "base_uri": "https://localhost:8080/",
     "height": 422
    },
    "id": "GoHGUcC7bzvX",
    "outputId": "c809aec7-5153-4a8b-bae8-14103c996c61"
   },
   "outputs": [],
   "source": [
    "df_roc"
   ]
  },
  {
   "cell_type": "markdown",
   "metadata": {
    "id": "s_zu9zZXJVNG"
   },
   "source": [
    "AUC-ROC カーブのプロット"
   ]
  },
  {
   "cell_type": "code",
   "execution_count": null,
   "metadata": {
    "colab": {
     "base_uri": "https://localhost:8080/",
     "height": 313
    },
    "id": "jSRTXr6ub2ty",
    "outputId": "46f6cf64-9108-4c8d-d148-ecbd2036ed2d"
   },
   "outputs": [],
   "source": [
    "df_roc.plot(x=\"false_positive_rate\", y=\"recall\", title=\"AUC-ROC curve\")"
   ]
  },
  {
   "cell_type": "markdown",
   "metadata": {
    "id": "oyeAzheVFUxU"
   },
   "source": [
    "## モデルを使った推論"
   ]
  },
  {
   "cell_type": "markdown",
   "metadata": {
    "id": "02ZQPKIebo7y"
   },
   "source": [
    "[`ML.PREDICT`](https://cloud.google.com/bigquery-ml/docs/reference/standard-sql/bigqueryml-syntax-predict) を使って、離脱する可能性を推定します。次のコードでは `ML.PREDICT` から返ってくる情報を全て表示します。"
   ]
  },
  {
   "cell_type": "code",
   "execution_count": null,
   "metadata": {
    "colab": {
     "base_uri": "https://localhost:8080/",
     "height": 590
    },
    "id": "229TPkhUFe23",
    "outputId": "81495cbc-754a-4845-8e74-cd9ef0a49ede"
   },
   "outputs": [],
   "source": [
    "%%bigquery --project $PROJECT_ID\n",
    "\n",
    "SELECT\n",
    "  *\n",
    "FROM\n",
    "  ML.PREDICT(MODEL bqmlga4.churn_logreg,\n",
    "  (SELECT * FROM bqmlga4.train)) #本来は訓練用データとは別のテストデータとすべき"
   ]
  },
  {
   "cell_type": "markdown",
   "metadata": {
    "id": "4WinvkfYdE1q"
   },
   "source": [
    "一番重要な情報は離脱する可能性だと考えられるので、必要な列のみに絞ります。"
   ]
  },
  {
   "cell_type": "code",
   "execution_count": null,
   "metadata": {
    "colab": {
     "base_uri": "https://localhost:8080/",
     "height": 422
    },
    "id": "92eOP8Sw7zO_",
    "outputId": "a98b4dd5-39d4-43ff-ed39-7d1cdbb9a33f"
   },
   "outputs": [],
   "source": [
    "%%bigquery --project $PROJECT_ID\n",
    "\n",
    "SELECT\n",
    "  user_pseudo_id,\n",
    "  churned,\n",
    "  predicted_churned,\n",
    "  predicted_churned_probs[OFFSET(0)].prob as probability_churned\n",
    "  \n",
    "FROM\n",
    "  ML.PREDICT(MODEL bqmlga4.churn_logreg,\n",
    "  (SELECT * FROM bqmlga4.train)) #can be replaced with a proper test dataset"
   ]
  },
  {
   "cell_type": "markdown",
   "metadata": {
    "id": "TCGAfP9DKLDH"
   },
   "source": [
    "### 推論した結果を取り出す"
   ]
  },
  {
   "cell_type": "markdown",
   "metadata": {
    "id": "EMETxq7CKtTQ"
   },
   "source": [
    "##### 結果を BigQuery から直接読み出す"
   ]
  },
  {
   "cell_type": "markdown",
   "metadata": {
    "id": "6_BUvnJvKQQP"
   },
   "source": [
    "`ML.PREDICT` による結果は、BigQuery Storage API ([ドキュメントとサンプル](https://cloud.google.com/bigquery/docs/bigquery-storage-python-pandas#download_table_data_using_the_client_library)参照)を使ってPandas のデータフレームとして取り出すことができます。また、別の言語の[BigQuery クライアントライブラリ](https://cloud.google.com/bigquery/docs/reference/libraries)を使うこともできます。\n",
    "\n",
    "別の方法として、%%bigquery <variable name> を使ってノートブックの Pandas にエクスポートする方法を下記に示します。"
   ]
  },
  {
   "cell_type": "code",
   "execution_count": null,
   "metadata": {
    "id": "0qB2DsQkKgEH"
   },
   "outputs": [],
   "source": [
    "%%bigquery df --project $PROJECT_ID\n",
    "\n",
    "SELECT\n",
    "  user_pseudo_id,\n",
    "  churned,\n",
    "  predicted_churned,\n",
    "  predicted_churned_probs[OFFSET(0)].prob as probability_churned\n",
    "  \n",
    "FROM\n",
    "  ML.PREDICT(MODEL bqmlga4.churn_logreg,\n",
    "  (SELECT * FROM bqmlga4.train)) #can be replaced with a proper test dataset"
   ]
  },
  {
   "cell_type": "code",
   "execution_count": null,
   "metadata": {
    "id": "-yJAFuUOKl1i"
   },
   "outputs": [],
   "source": [
    "df.head()"
   ]
  },
  {
   "cell_type": "markdown",
   "metadata": {
    "id": "wzEsO_oPK2vv"
   },
   "source": [
    "##### Google Cloud Storage のファイルへ書き出す"
   ]
  },
  {
   "cell_type": "markdown",
   "metadata": {
    "id": "xxgKXizcK5Cy"
   },
   "source": [
    "Google Cloud Storage (GCS) へエクスポートする方法の中で一番簡単なのはSQL ([ドキュメント](https://cloud.google.com/bigquery/docs/reference/standard-sql/other-statements#export_data_statement))に指定することです。\n",
    "まずはバケットを作成します。バケット名は全ユーザで一意である必要があるため、今回は一時的に発行されたプロジェクト名をベースにします。"
   ]
  },
  {
   "cell_type": "code",
   "execution_count": null,
   "metadata": {},
   "outputs": [],
   "source": [
    "!gcloud storage buckets create gs://$PROJECT_ID-export"
   ]
  },
  {
   "cell_type": "markdown",
   "metadata": {},
   "source": [
    "`CREATE TABLE AS SELECT ...` 文を使い、推論した結果を BigQuery のテーブルに保存します。"
   ]
  },
  {
   "cell_type": "code",
   "execution_count": null,
   "metadata": {
    "id": "5iah7a0KK9lv"
   },
   "outputs": [],
   "source": [
    "%%bigquery --project $PROJECT_ID\n",
    "\n",
    "CREATE TABLE bqmlga4.predict_logreg AS SELECT\n",
    "  user_pseudo_id,\n",
    "  churned,\n",
    "  predicted_churned,\n",
    "  predicted_churned_probs[OFFSET(0)].prob as probability_churned\n",
    "FROM\n",
    "  ML.PREDICT(MODEL bqmlga4.churn_logreg,\n",
    "  (SELECT * FROM bqmlga4.train)) #can be replaced with a proper test dataset\n",
    ";"
   ]
  },
  {
   "cell_type": "code",
   "execution_count": null,
   "metadata": {},
   "outputs": [],
   "source": [
    "import json\n",
    "query_params = json.dumps({\"export_uri\": f\"gs://{PROJECT_ID}-export/logreg/*\"})"
   ]
  },
  {
   "cell_type": "code",
   "execution_count": null,
   "metadata": {},
   "outputs": [],
   "source": [
    "%%bigquery --project $PROJECT_ID --params $query_params\n",
    "\n",
    "EXPORT DATA OPTIONS (\n",
    "  uri=@export_uri, \n",
    "  format=CSV\n",
    ") AS \n",
    "SELECT\n",
    "  *\n",
    "FROM\n",
    "  bqmlga4.predict_logreg"
   ]
  },
  {
   "cell_type": "markdown",
   "metadata": {},
   "source": [
    "クラウドコンソールから Cloud Storage を開き、ファイルに書き出されていることを確認してください。"
   ]
  },
  {
   "cell_type": "markdown",
   "metadata": {},
   "source": [
    "また別の活用方法として、Connected Sheets を使って Google スプレッドシートの画面からデータを参照、利用することも可能です。BigQuery の左側ツリーからテーブルの右にあるメニューを開き、Connected Sheets を選択してください。\n",
    "Connected Sheets の UI は表計算ソフトですが、その集計は BigQuery のエンジンが使われるため、大規模なデータ処理にも利用可能です。"
   ]
  },
  {
   "cell_type": "markdown",
   "metadata": {
    "id": "kDdj9jDZFl5z"
   },
   "source": [
    "## 推論した結果の活用"
   ]
  },
  {
   "cell_type": "markdown",
   "metadata": {
    "id": "WfWm7WFdmMN7"
   },
   "source": [
    "推論した結果を得た後は、ビジネス上の目的にあったさまざまな施策に使うことができます。\n",
    "\n",
    "この分析では、ユーザを識別するIDとして `user_pseudo_id` を利用しました。実際には、アプリは `user_id` を Google Analytics へ送信すべきです。これにより次のようにファーストパーティデータと組み合わせた活用が可能になります。\n",
    "\n",
    "* 推論時にファーストパーティデータと結合する\n",
    "* 推論結果をファーストパーティデータと結合する\n",
    "\n",
    "結合した後は、\n",
    "\n",
    "* 推論した結果を Google Analytics へユーザ属性として戻す。これは Google Analytics 4 の[データインポート機能](https://support.google.com/analytics/answer/10071301)によります。\n",
    "    * 推論した値により、[オーディエンスの作成、変更](https://support.google.com/analytics/answer/2611404) を行い、[オーディエンスターゲティング](https://support.google.com/optimize/answer/6283435)を実施する。 例えば推論値が 0.4 から 0.7 の間のユーザは離脱するか定着するかの境界線上にあるユーザ群と扱う。\n",
    "* アプリ内の体験を最適化する。Firebase には[セグメントのインポート](https://firebase.google.com/docs/projects/import-segments) 機能があります。 Remote Config, Cloud Messaging, In-App Messaging のような Firebase の機能を使い、ユーザに合わせた体験になるようにします。\n",
    "* ターゲットを絞ったキャンペーンを CRM ツールを使って実施する。"
   ]
  }
 ],
 "metadata": {
  "colab": {
   "collapsed_sections": [],
   "name": "Pattern - Propensity modeling (churn) BigQuery ML using GA4 data.ipynb",
   "provenance": []
  },
  "environment": {
   "kernel": "python3",
   "name": "common-cpu.m104",
   "type": "gcloud",
   "uri": "gcr.io/deeplearning-platform-release/base-cpu:m104"
  },
  "kernelspec": {
   "display_name": "Python 3",
   "language": "python",
   "name": "python3"
  },
  "language_info": {
   "codemirror_mode": {
    "name": "ipython",
    "version": 3
   },
   "file_extension": ".py",
   "mimetype": "text/x-python",
   "name": "python",
   "nbconvert_exporter": "python",
   "pygments_lexer": "ipython3",
   "version": "3.7.12"
  }
 },
 "nbformat": 4,
 "nbformat_minor": 4
}
